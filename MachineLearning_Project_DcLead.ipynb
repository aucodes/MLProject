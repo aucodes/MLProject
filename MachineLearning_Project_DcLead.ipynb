{
  "metadata": {
    "kernelspec": {
      "language": "python",
      "display_name": "Python 3",
      "name": "python3"
    },
    "language_info": {
      "name": "python",
      "version": "3.7.12",
      "mimetype": "text/x-python",
      "codemirror_mode": {
        "name": "ipython",
        "version": 3
      },
      "pygments_lexer": "ipython3",
      "nbconvert_exporter": "python",
      "file_extension": ".py"
    },
    "colab": {
      "provenance": [],
      "include_colab_link": true
    }
  },
  "nbformat_minor": 0,
  "nbformat": 4,
  "cells": [
    {
      "cell_type": "markdown",
      "metadata": {
        "id": "view-in-github",
        "colab_type": "text"
      },
      "source": [
        "<a href=\"https://colab.research.google.com/github/aucodes/MLProject/blob/main/MachineLearning_Project_DcLead.ipynb\" target=\"_parent\"><img src=\"https://colab.research.google.com/assets/colab-badge.svg\" alt=\"Open In Colab\"/></a>"
      ]
    },
    {
      "cell_type": "code",
      "source": [
        "#Importing\n",
        "import numpy as np # linear algebra\n",
        "import pandas as pd # data processing, CSV file I/O (e.g. pd.read_csv)\n",
        "\n",
        "import os\n",
        "for dirname, _, filenames in os.walk('/kaggle/input'):\n",
        "    for filename in filenames:\n",
        "        print(os.path.join(dirname, filename))"
      ],
      "metadata": {
        "_uuid": "8f2839f25d086af736a60e9eeb907d3b93b6e0e5",
        "_cell_guid": "b1076dfc-b9ad-4769-8c92-a6c4dae69d19",
        "execution": {
          "iopub.status.busy": "2023-06-07T00:26:14.117454Z",
          "iopub.execute_input": "2023-06-07T00:26:14.117835Z",
          "iopub.status.idle": "2023-06-07T00:26:14.147471Z",
          "shell.execute_reply.started": "2023-06-07T00:26:14.117799Z",
          "shell.execute_reply": "2023-06-07T00:26:14.146300Z"
        },
        "trusted": true,
        "id": "QvSlikVfWTtT"
      },
      "execution_count": null,
      "outputs": []
    },
    {
      "cell_type": "code",
      "source": [
        "!pip install --upgrade scikit-learn\n",
        "\n"
      ],
      "metadata": {
        "colab": {
          "base_uri": "https://localhost:8080/"
        },
        "id": "7kkiQMxsYLze",
        "outputId": "05852c0f-f423-46e3-e2ab-23799bcfed90"
      },
      "execution_count": null,
      "outputs": [
        {
          "output_type": "stream",
          "name": "stdout",
          "text": [
            "Looking in indexes: https://pypi.org/simple, https://us-python.pkg.dev/colab-wheels/public/simple/\n",
            "Requirement already satisfied: scikit-learn in /usr/local/lib/python3.10/dist-packages (1.2.2)\n",
            "Requirement already satisfied: numpy>=1.17.3 in /usr/local/lib/python3.10/dist-packages (from scikit-learn) (1.22.4)\n",
            "Requirement already satisfied: scipy>=1.3.2 in /usr/local/lib/python3.10/dist-packages (from scikit-learn) (1.10.1)\n",
            "Requirement already satisfied: joblib>=1.1.1 in /usr/local/lib/python3.10/dist-packages (from scikit-learn) (1.2.0)\n",
            "Requirement already satisfied: threadpoolctl>=2.0.0 in /usr/local/lib/python3.10/dist-packages (from scikit-learn) (3.1.0)\n"
          ]
        }
      ]
    },
    {
      "cell_type": "code",
      "source": [
        "# importing the libraries\n",
        "import numpy as np\n",
        "import pandas as pd\n",
        "import matplotlib.pyplot as plt\n",
        "import seaborn as sns\n",
        "import scipy.stats as stats\n",
        "import statsmodels.api as sm\n",
        "from statsmodels.stats.outliers_influence import variance_inflation_factor as VIF\n",
        "from sklearn.preprocessing import StandardScaler,OrdinalEncoder\n",
        "from sklearn.model_selection import train_test_split,GridSearchCV\n",
        "from sklearn.linear_model import LogisticRegression\n",
        "from sklearn.tree import DecisionTreeClassifier\n",
        "from sklearn.ensemble import RandomForestClassifier,AdaBoostClassifier,GradientBoostingClassifier\n",
        "from sklearn.neighbors import KNeighborsClassifier\n",
        "from sklearn.naive_bayes import GaussianNB\n",
        "from sklearn.metrics import accuracy_score,confusion_matrix,classification_report,cohen_kappa_score,roc_auc_score,roc_curve\n",
        "from sklearn.metrics import precision_score,recall_score,f1_score\n",
        "from sklearn.metrics import plot_confusion_matrix\n",
        "from sklearn.metrics import plot_roc_curve\n",
        "\n",
        "from sklearn.feature_selection import SequentialFeatureSelector as sfs,RFE\n",
        "from xgboost import XGBClassifier\n",
        "import warnings\n",
        "warnings.filterwarnings('ignore')\n",
        "plt.rcParams['figure.figsize']=[15,7]"
      ],
      "metadata": {
        "execution": {
          "iopub.status.busy": "2023-06-07T00:26:14.149224Z",
          "iopub.execute_input": "2023-06-07T00:26:14.149549Z",
          "iopub.status.idle": "2023-06-07T00:26:17.547350Z",
          "shell.execute_reply.started": "2023-06-07T00:26:14.149517Z",
          "shell.execute_reply": "2023-06-07T00:26:17.546335Z"
        },
        "trusted": true,
        "colab": {
          "base_uri": "https://localhost:8080/",
          "height": 368
        },
        "id": "HKd20xvhWTtX",
        "outputId": "2c91a869-b796-4b9a-bc1e-dd570fd0d851"
      },
      "execution_count": null,
      "outputs": [
        {
          "output_type": "error",
          "ename": "ImportError",
          "evalue": "ignored",
          "traceback": [
            "\u001b[0;31m---------------------------------------------------------------------------\u001b[0m",
            "\u001b[0;31mImportError\u001b[0m                               Traceback (most recent call last)",
            "\u001b[0;32m<ipython-input-17-3071456eb9c1>\u001b[0m in \u001b[0;36m<cell line: 18>\u001b[0;34m()\u001b[0m\n\u001b[1;32m     16\u001b[0m \u001b[0;32mfrom\u001b[0m \u001b[0msklearn\u001b[0m\u001b[0;34m.\u001b[0m\u001b[0mmetrics\u001b[0m \u001b[0;32mimport\u001b[0m \u001b[0maccuracy_score\u001b[0m\u001b[0;34m,\u001b[0m\u001b[0mconfusion_matrix\u001b[0m\u001b[0;34m,\u001b[0m\u001b[0mclassification_report\u001b[0m\u001b[0;34m,\u001b[0m\u001b[0mcohen_kappa_score\u001b[0m\u001b[0;34m,\u001b[0m\u001b[0mroc_auc_score\u001b[0m\u001b[0;34m,\u001b[0m\u001b[0mroc_curve\u001b[0m\u001b[0;34m\u001b[0m\u001b[0;34m\u001b[0m\u001b[0m\n\u001b[1;32m     17\u001b[0m \u001b[0;32mfrom\u001b[0m \u001b[0msklearn\u001b[0m\u001b[0;34m.\u001b[0m\u001b[0mmetrics\u001b[0m \u001b[0;32mimport\u001b[0m \u001b[0mprecision_score\u001b[0m\u001b[0;34m,\u001b[0m\u001b[0mrecall_score\u001b[0m\u001b[0;34m,\u001b[0m\u001b[0mf1_score\u001b[0m\u001b[0;34m\u001b[0m\u001b[0;34m\u001b[0m\u001b[0m\n\u001b[0;32m---> 18\u001b[0;31m \u001b[0;32mfrom\u001b[0m \u001b[0msklearn\u001b[0m\u001b[0;34m.\u001b[0m\u001b[0mmetrics\u001b[0m \u001b[0;32mimport\u001b[0m \u001b[0mplot_confusion_matrix\u001b[0m\u001b[0;34m\u001b[0m\u001b[0;34m\u001b[0m\u001b[0m\n\u001b[0m\u001b[1;32m     19\u001b[0m \u001b[0;32mfrom\u001b[0m \u001b[0msklearn\u001b[0m\u001b[0;34m.\u001b[0m\u001b[0mmetrics\u001b[0m \u001b[0;32mimport\u001b[0m \u001b[0mplot_roc_curve\u001b[0m\u001b[0;34m\u001b[0m\u001b[0;34m\u001b[0m\u001b[0m\n\u001b[1;32m     20\u001b[0m \u001b[0;34m\u001b[0m\u001b[0m\n",
            "\u001b[0;31mImportError\u001b[0m: cannot import name 'plot_confusion_matrix' from 'sklearn.metrics' (/usr/local/lib/python3.10/dist-packages/sklearn/metrics/__init__.py)",
            "",
            "\u001b[0;31m---------------------------------------------------------------------------\u001b[0;32m\nNOTE: If your import is failing due to a missing package, you can\nmanually install dependencies using either !pip or !apt.\n\nTo view examples of installing some common dependencies, click the\n\"Open Examples\" button below.\n\u001b[0;31m---------------------------------------------------------------------------\u001b[0m\n"
          ],
          "errorDetails": {
            "actions": [
              {
                "action": "open_url",
                "actionText": "Open Examples",
                "url": "/notebooks/snippets/importing_libraries.ipynb"
              }
            ]
          }
        }
      ]
    },
    {
      "cell_type": "code",
      "source": [
        "df = pd.read_csv('https://raw.githubusercontent.com/aucodes/MLProject/main/waterQuality1.csv.xls')\n",
        "df.head()"
      ],
      "metadata": {
        "execution": {
          "iopub.status.busy": "2023-06-07T00:26:17.548507Z",
          "iopub.execute_input": "2023-06-07T00:26:17.549213Z",
          "iopub.status.idle": "2023-06-07T00:26:17.645921Z",
          "shell.execute_reply.started": "2023-06-07T00:26:17.549174Z",
          "shell.execute_reply": "2023-06-07T00:26:17.644664Z"
        },
        "trusted": true,
        "colab": {
          "base_uri": "https://localhost:8080/",
          "height": 297
        },
        "id": "YRdDUhuJWTtY",
        "outputId": "b07fd22f-0eae-4406-e5f9-b8050e2a97bf"
      },
      "execution_count": null,
      "outputs": [
        {
          "output_type": "execute_result",
          "data": {
            "text/plain": [
              "   aluminium ammonia  arsenic  barium  cadmium  chloramine  chromium  copper  \\\n",
              "0       1.65    9.08     0.04    2.85    0.007        0.35      0.83    0.17   \n",
              "1       2.32   21.16     0.01    3.31    0.002        5.28      0.68    0.66   \n",
              "2       1.01   14.02     0.04    0.58    0.008        4.24      0.53    0.02   \n",
              "3       1.36   11.33     0.04    2.96    0.001        7.23      0.03    1.66   \n",
              "4       0.92   24.33     0.03    0.20    0.006        2.67      0.69    0.57   \n",
              "\n",
              "   flouride  bacteria  ...   lead  nitrates  nitrites  mercury  perchlorate  \\\n",
              "0      0.05      0.20  ...  0.054     16.08      1.13    0.007        37.75   \n",
              "1      0.90      0.65  ...  0.100      2.01      1.93    0.003        32.26   \n",
              "2      0.99      0.05  ...  0.078     14.16      1.11    0.006        50.28   \n",
              "3      1.08      0.71  ...  0.016      1.41      1.29    0.004         9.12   \n",
              "4      0.61      0.13  ...  0.117      6.74      1.11    0.003        16.90   \n",
              "\n",
              "   radium  selenium  silver  uranium  is_safe  \n",
              "0    6.78      0.08    0.34     0.02        1  \n",
              "1    3.21      0.08    0.27     0.05        1  \n",
              "2    7.07      0.07    0.44     0.01        0  \n",
              "3    1.72      0.02    0.45     0.05        1  \n",
              "4    2.41      0.02    0.06     0.02        1  \n",
              "\n",
              "[5 rows x 21 columns]"
            ],
            "text/html": [
              "\n",
              "  <div id=\"df-c129d303-6462-4180-8edf-b5c23b6b29c1\">\n",
              "    <div class=\"colab-df-container\">\n",
              "      <div>\n",
              "<style scoped>\n",
              "    .dataframe tbody tr th:only-of-type {\n",
              "        vertical-align: middle;\n",
              "    }\n",
              "\n",
              "    .dataframe tbody tr th {\n",
              "        vertical-align: top;\n",
              "    }\n",
              "\n",
              "    .dataframe thead th {\n",
              "        text-align: right;\n",
              "    }\n",
              "</style>\n",
              "<table border=\"1\" class=\"dataframe\">\n",
              "  <thead>\n",
              "    <tr style=\"text-align: right;\">\n",
              "      <th></th>\n",
              "      <th>aluminium</th>\n",
              "      <th>ammonia</th>\n",
              "      <th>arsenic</th>\n",
              "      <th>barium</th>\n",
              "      <th>cadmium</th>\n",
              "      <th>chloramine</th>\n",
              "      <th>chromium</th>\n",
              "      <th>copper</th>\n",
              "      <th>flouride</th>\n",
              "      <th>bacteria</th>\n",
              "      <th>...</th>\n",
              "      <th>lead</th>\n",
              "      <th>nitrates</th>\n",
              "      <th>nitrites</th>\n",
              "      <th>mercury</th>\n",
              "      <th>perchlorate</th>\n",
              "      <th>radium</th>\n",
              "      <th>selenium</th>\n",
              "      <th>silver</th>\n",
              "      <th>uranium</th>\n",
              "      <th>is_safe</th>\n",
              "    </tr>\n",
              "  </thead>\n",
              "  <tbody>\n",
              "    <tr>\n",
              "      <th>0</th>\n",
              "      <td>1.65</td>\n",
              "      <td>9.08</td>\n",
              "      <td>0.04</td>\n",
              "      <td>2.85</td>\n",
              "      <td>0.007</td>\n",
              "      <td>0.35</td>\n",
              "      <td>0.83</td>\n",
              "      <td>0.17</td>\n",
              "      <td>0.05</td>\n",
              "      <td>0.20</td>\n",
              "      <td>...</td>\n",
              "      <td>0.054</td>\n",
              "      <td>16.08</td>\n",
              "      <td>1.13</td>\n",
              "      <td>0.007</td>\n",
              "      <td>37.75</td>\n",
              "      <td>6.78</td>\n",
              "      <td>0.08</td>\n",
              "      <td>0.34</td>\n",
              "      <td>0.02</td>\n",
              "      <td>1</td>\n",
              "    </tr>\n",
              "    <tr>\n",
              "      <th>1</th>\n",
              "      <td>2.32</td>\n",
              "      <td>21.16</td>\n",
              "      <td>0.01</td>\n",
              "      <td>3.31</td>\n",
              "      <td>0.002</td>\n",
              "      <td>5.28</td>\n",
              "      <td>0.68</td>\n",
              "      <td>0.66</td>\n",
              "      <td>0.90</td>\n",
              "      <td>0.65</td>\n",
              "      <td>...</td>\n",
              "      <td>0.100</td>\n",
              "      <td>2.01</td>\n",
              "      <td>1.93</td>\n",
              "      <td>0.003</td>\n",
              "      <td>32.26</td>\n",
              "      <td>3.21</td>\n",
              "      <td>0.08</td>\n",
              "      <td>0.27</td>\n",
              "      <td>0.05</td>\n",
              "      <td>1</td>\n",
              "    </tr>\n",
              "    <tr>\n",
              "      <th>2</th>\n",
              "      <td>1.01</td>\n",
              "      <td>14.02</td>\n",
              "      <td>0.04</td>\n",
              "      <td>0.58</td>\n",
              "      <td>0.008</td>\n",
              "      <td>4.24</td>\n",
              "      <td>0.53</td>\n",
              "      <td>0.02</td>\n",
              "      <td>0.99</td>\n",
              "      <td>0.05</td>\n",
              "      <td>...</td>\n",
              "      <td>0.078</td>\n",
              "      <td>14.16</td>\n",
              "      <td>1.11</td>\n",
              "      <td>0.006</td>\n",
              "      <td>50.28</td>\n",
              "      <td>7.07</td>\n",
              "      <td>0.07</td>\n",
              "      <td>0.44</td>\n",
              "      <td>0.01</td>\n",
              "      <td>0</td>\n",
              "    </tr>\n",
              "    <tr>\n",
              "      <th>3</th>\n",
              "      <td>1.36</td>\n",
              "      <td>11.33</td>\n",
              "      <td>0.04</td>\n",
              "      <td>2.96</td>\n",
              "      <td>0.001</td>\n",
              "      <td>7.23</td>\n",
              "      <td>0.03</td>\n",
              "      <td>1.66</td>\n",
              "      <td>1.08</td>\n",
              "      <td>0.71</td>\n",
              "      <td>...</td>\n",
              "      <td>0.016</td>\n",
              "      <td>1.41</td>\n",
              "      <td>1.29</td>\n",
              "      <td>0.004</td>\n",
              "      <td>9.12</td>\n",
              "      <td>1.72</td>\n",
              "      <td>0.02</td>\n",
              "      <td>0.45</td>\n",
              "      <td>0.05</td>\n",
              "      <td>1</td>\n",
              "    </tr>\n",
              "    <tr>\n",
              "      <th>4</th>\n",
              "      <td>0.92</td>\n",
              "      <td>24.33</td>\n",
              "      <td>0.03</td>\n",
              "      <td>0.20</td>\n",
              "      <td>0.006</td>\n",
              "      <td>2.67</td>\n",
              "      <td>0.69</td>\n",
              "      <td>0.57</td>\n",
              "      <td>0.61</td>\n",
              "      <td>0.13</td>\n",
              "      <td>...</td>\n",
              "      <td>0.117</td>\n",
              "      <td>6.74</td>\n",
              "      <td>1.11</td>\n",
              "      <td>0.003</td>\n",
              "      <td>16.90</td>\n",
              "      <td>2.41</td>\n",
              "      <td>0.02</td>\n",
              "      <td>0.06</td>\n",
              "      <td>0.02</td>\n",
              "      <td>1</td>\n",
              "    </tr>\n",
              "  </tbody>\n",
              "</table>\n",
              "<p>5 rows × 21 columns</p>\n",
              "</div>\n",
              "      <button class=\"colab-df-convert\" onclick=\"convertToInteractive('df-c129d303-6462-4180-8edf-b5c23b6b29c1')\"\n",
              "              title=\"Convert this dataframe to an interactive table.\"\n",
              "              style=\"display:none;\">\n",
              "        \n",
              "  <svg xmlns=\"http://www.w3.org/2000/svg\" height=\"24px\"viewBox=\"0 0 24 24\"\n",
              "       width=\"24px\">\n",
              "    <path d=\"M0 0h24v24H0V0z\" fill=\"none\"/>\n",
              "    <path d=\"M18.56 5.44l.94 2.06.94-2.06 2.06-.94-2.06-.94-.94-2.06-.94 2.06-2.06.94zm-11 1L8.5 8.5l.94-2.06 2.06-.94-2.06-.94L8.5 2.5l-.94 2.06-2.06.94zm10 10l.94 2.06.94-2.06 2.06-.94-2.06-.94-.94-2.06-.94 2.06-2.06.94z\"/><path d=\"M17.41 7.96l-1.37-1.37c-.4-.4-.92-.59-1.43-.59-.52 0-1.04.2-1.43.59L10.3 9.45l-7.72 7.72c-.78.78-.78 2.05 0 2.83L4 21.41c.39.39.9.59 1.41.59.51 0 1.02-.2 1.41-.59l7.78-7.78 2.81-2.81c.8-.78.8-2.07 0-2.86zM5.41 20L4 18.59l7.72-7.72 1.47 1.35L5.41 20z\"/>\n",
              "  </svg>\n",
              "      </button>\n",
              "      \n",
              "  <style>\n",
              "    .colab-df-container {\n",
              "      display:flex;\n",
              "      flex-wrap:wrap;\n",
              "      gap: 12px;\n",
              "    }\n",
              "\n",
              "    .colab-df-convert {\n",
              "      background-color: #E8F0FE;\n",
              "      border: none;\n",
              "      border-radius: 50%;\n",
              "      cursor: pointer;\n",
              "      display: none;\n",
              "      fill: #1967D2;\n",
              "      height: 32px;\n",
              "      padding: 0 0 0 0;\n",
              "      width: 32px;\n",
              "    }\n",
              "\n",
              "    .colab-df-convert:hover {\n",
              "      background-color: #E2EBFA;\n",
              "      box-shadow: 0px 1px 2px rgba(60, 64, 67, 0.3), 0px 1px 3px 1px rgba(60, 64, 67, 0.15);\n",
              "      fill: #174EA6;\n",
              "    }\n",
              "\n",
              "    [theme=dark] .colab-df-convert {\n",
              "      background-color: #3B4455;\n",
              "      fill: #D2E3FC;\n",
              "    }\n",
              "\n",
              "    [theme=dark] .colab-df-convert:hover {\n",
              "      background-color: #434B5C;\n",
              "      box-shadow: 0px 1px 3px 1px rgba(0, 0, 0, 0.15);\n",
              "      filter: drop-shadow(0px 1px 2px rgba(0, 0, 0, 0.3));\n",
              "      fill: #FFFFFF;\n",
              "    }\n",
              "  </style>\n",
              "\n",
              "      <script>\n",
              "        const buttonEl =\n",
              "          document.querySelector('#df-c129d303-6462-4180-8edf-b5c23b6b29c1 button.colab-df-convert');\n",
              "        buttonEl.style.display =\n",
              "          google.colab.kernel.accessAllowed ? 'block' : 'none';\n",
              "\n",
              "        async function convertToInteractive(key) {\n",
              "          const element = document.querySelector('#df-c129d303-6462-4180-8edf-b5c23b6b29c1');\n",
              "          const dataTable =\n",
              "            await google.colab.kernel.invokeFunction('convertToInteractive',\n",
              "                                                     [key], {});\n",
              "          if (!dataTable) return;\n",
              "\n",
              "          const docLinkHtml = 'Like what you see? Visit the ' +\n",
              "            '<a target=\"_blank\" href=https://colab.research.google.com/notebooks/data_table.ipynb>data table notebook</a>'\n",
              "            + ' to learn more about interactive tables.';\n",
              "          element.innerHTML = '';\n",
              "          dataTable['output_type'] = 'display_data';\n",
              "          await google.colab.output.renderOutput(dataTable, element);\n",
              "          const docLink = document.createElement('div');\n",
              "          docLink.innerHTML = docLinkHtml;\n",
              "          element.appendChild(docLink);\n",
              "        }\n",
              "      </script>\n",
              "    </div>\n",
              "  </div>\n",
              "  "
            ]
          },
          "metadata": {},
          "execution_count": 18
        }
      ]
    },
    {
      "cell_type": "code",
      "source": [
        "df.shape"
      ],
      "metadata": {
        "execution": {
          "iopub.status.busy": "2023-06-07T00:26:17.648961Z",
          "iopub.execute_input": "2023-06-07T00:26:17.649743Z",
          "iopub.status.idle": "2023-06-07T00:26:17.656803Z",
          "shell.execute_reply.started": "2023-06-07T00:26:17.649699Z",
          "shell.execute_reply": "2023-06-07T00:26:17.655868Z"
        },
        "trusted": true,
        "colab": {
          "base_uri": "https://localhost:8080/"
        },
        "id": "p_ZG3n2CWTtY",
        "outputId": "7a151e0c-92de-4a0c-9e04-86e91dab67ea"
      },
      "execution_count": null,
      "outputs": [
        {
          "output_type": "execute_result",
          "data": {
            "text/plain": [
              "(7999, 21)"
            ]
          },
          "metadata": {},
          "execution_count": 19
        }
      ]
    },
    {
      "cell_type": "code",
      "source": [
        "df.info()"
      ],
      "metadata": {
        "execution": {
          "iopub.status.busy": "2023-06-07T00:26:17.658547Z",
          "iopub.execute_input": "2023-06-07T00:26:17.659233Z",
          "iopub.status.idle": "2023-06-07T00:26:17.695734Z",
          "shell.execute_reply.started": "2023-06-07T00:26:17.659187Z",
          "shell.execute_reply": "2023-06-07T00:26:17.693852Z"
        },
        "trusted": true,
        "colab": {
          "base_uri": "https://localhost:8080/"
        },
        "id": "gkVmgT_vWTtZ",
        "outputId": "a572d67f-6cad-4854-d25e-6627d05a6d8c"
      },
      "execution_count": null,
      "outputs": [
        {
          "output_type": "stream",
          "name": "stdout",
          "text": [
            "<class 'pandas.core.frame.DataFrame'>\n",
            "RangeIndex: 7999 entries, 0 to 7998\n",
            "Data columns (total 21 columns):\n",
            " #   Column       Non-Null Count  Dtype  \n",
            "---  ------       --------------  -----  \n",
            " 0   aluminium    7999 non-null   float64\n",
            " 1   ammonia      7999 non-null   object \n",
            " 2   arsenic      7999 non-null   float64\n",
            " 3   barium       7999 non-null   float64\n",
            " 4   cadmium      7999 non-null   float64\n",
            " 5   chloramine   7999 non-null   float64\n",
            " 6   chromium     7999 non-null   float64\n",
            " 7   copper       7999 non-null   float64\n",
            " 8   flouride     7999 non-null   float64\n",
            " 9   bacteria     7999 non-null   float64\n",
            " 10  viruses      7999 non-null   float64\n",
            " 11  lead         7999 non-null   float64\n",
            " 12  nitrates     7999 non-null   float64\n",
            " 13  nitrites     7999 non-null   float64\n",
            " 14  mercury      7999 non-null   float64\n",
            " 15  perchlorate  7999 non-null   float64\n",
            " 16  radium       7999 non-null   float64\n",
            " 17  selenium     7999 non-null   float64\n",
            " 18  silver       7999 non-null   float64\n",
            " 19  uranium      7999 non-null   float64\n",
            " 20  is_safe      7999 non-null   object \n",
            "dtypes: float64(19), object(2)\n",
            "memory usage: 1.3+ MB\n"
          ]
        }
      ]
    },
    {
      "cell_type": "code",
      "source": [
        "df = df.replace({'#NUM!':np.nan})\n",
        "df.head()"
      ],
      "metadata": {
        "execution": {
          "iopub.status.busy": "2023-06-07T00:29:35.266843Z",
          "iopub.execute_input": "2023-06-07T00:29:35.267356Z",
          "iopub.status.idle": "2023-06-07T00:29:35.298337Z",
          "shell.execute_reply.started": "2023-06-07T00:29:35.267304Z",
          "shell.execute_reply": "2023-06-07T00:29:35.297057Z"
        },
        "trusted": true,
        "colab": {
          "base_uri": "https://localhost:8080/",
          "height": 297
        },
        "id": "oKvsqfJdWTtZ",
        "outputId": "28e8b51d-7f68-4785-f00e-47aa401361d5"
      },
      "execution_count": null,
      "outputs": [
        {
          "output_type": "execute_result",
          "data": {
            "text/plain": [
              "   aluminium ammonia  arsenic  barium  cadmium  chloramine  chromium  copper  \\\n",
              "0       1.65    9.08     0.04    2.85    0.007        0.35      0.83    0.17   \n",
              "1       2.32   21.16     0.01    3.31    0.002        5.28      0.68    0.66   \n",
              "2       1.01   14.02     0.04    0.58    0.008        4.24      0.53    0.02   \n",
              "3       1.36   11.33     0.04    2.96    0.001        7.23      0.03    1.66   \n",
              "4       0.92   24.33     0.03    0.20    0.006        2.67      0.69    0.57   \n",
              "\n",
              "   flouride  bacteria  ...   lead  nitrates  nitrites  mercury  perchlorate  \\\n",
              "0      0.05      0.20  ...  0.054     16.08      1.13    0.007        37.75   \n",
              "1      0.90      0.65  ...  0.100      2.01      1.93    0.003        32.26   \n",
              "2      0.99      0.05  ...  0.078     14.16      1.11    0.006        50.28   \n",
              "3      1.08      0.71  ...  0.016      1.41      1.29    0.004         9.12   \n",
              "4      0.61      0.13  ...  0.117      6.74      1.11    0.003        16.90   \n",
              "\n",
              "   radium  selenium  silver  uranium  is_safe  \n",
              "0    6.78      0.08    0.34     0.02        1  \n",
              "1    3.21      0.08    0.27     0.05        1  \n",
              "2    7.07      0.07    0.44     0.01        0  \n",
              "3    1.72      0.02    0.45     0.05        1  \n",
              "4    2.41      0.02    0.06     0.02        1  \n",
              "\n",
              "[5 rows x 21 columns]"
            ],
            "text/html": [
              "\n",
              "  <div id=\"df-aa540828-3891-4683-9788-a1910f8f2c6f\">\n",
              "    <div class=\"colab-df-container\">\n",
              "      <div>\n",
              "<style scoped>\n",
              "    .dataframe tbody tr th:only-of-type {\n",
              "        vertical-align: middle;\n",
              "    }\n",
              "\n",
              "    .dataframe tbody tr th {\n",
              "        vertical-align: top;\n",
              "    }\n",
              "\n",
              "    .dataframe thead th {\n",
              "        text-align: right;\n",
              "    }\n",
              "</style>\n",
              "<table border=\"1\" class=\"dataframe\">\n",
              "  <thead>\n",
              "    <tr style=\"text-align: right;\">\n",
              "      <th></th>\n",
              "      <th>aluminium</th>\n",
              "      <th>ammonia</th>\n",
              "      <th>arsenic</th>\n",
              "      <th>barium</th>\n",
              "      <th>cadmium</th>\n",
              "      <th>chloramine</th>\n",
              "      <th>chromium</th>\n",
              "      <th>copper</th>\n",
              "      <th>flouride</th>\n",
              "      <th>bacteria</th>\n",
              "      <th>...</th>\n",
              "      <th>lead</th>\n",
              "      <th>nitrates</th>\n",
              "      <th>nitrites</th>\n",
              "      <th>mercury</th>\n",
              "      <th>perchlorate</th>\n",
              "      <th>radium</th>\n",
              "      <th>selenium</th>\n",
              "      <th>silver</th>\n",
              "      <th>uranium</th>\n",
              "      <th>is_safe</th>\n",
              "    </tr>\n",
              "  </thead>\n",
              "  <tbody>\n",
              "    <tr>\n",
              "      <th>0</th>\n",
              "      <td>1.65</td>\n",
              "      <td>9.08</td>\n",
              "      <td>0.04</td>\n",
              "      <td>2.85</td>\n",
              "      <td>0.007</td>\n",
              "      <td>0.35</td>\n",
              "      <td>0.83</td>\n",
              "      <td>0.17</td>\n",
              "      <td>0.05</td>\n",
              "      <td>0.20</td>\n",
              "      <td>...</td>\n",
              "      <td>0.054</td>\n",
              "      <td>16.08</td>\n",
              "      <td>1.13</td>\n",
              "      <td>0.007</td>\n",
              "      <td>37.75</td>\n",
              "      <td>6.78</td>\n",
              "      <td>0.08</td>\n",
              "      <td>0.34</td>\n",
              "      <td>0.02</td>\n",
              "      <td>1</td>\n",
              "    </tr>\n",
              "    <tr>\n",
              "      <th>1</th>\n",
              "      <td>2.32</td>\n",
              "      <td>21.16</td>\n",
              "      <td>0.01</td>\n",
              "      <td>3.31</td>\n",
              "      <td>0.002</td>\n",
              "      <td>5.28</td>\n",
              "      <td>0.68</td>\n",
              "      <td>0.66</td>\n",
              "      <td>0.90</td>\n",
              "      <td>0.65</td>\n",
              "      <td>...</td>\n",
              "      <td>0.100</td>\n",
              "      <td>2.01</td>\n",
              "      <td>1.93</td>\n",
              "      <td>0.003</td>\n",
              "      <td>32.26</td>\n",
              "      <td>3.21</td>\n",
              "      <td>0.08</td>\n",
              "      <td>0.27</td>\n",
              "      <td>0.05</td>\n",
              "      <td>1</td>\n",
              "    </tr>\n",
              "    <tr>\n",
              "      <th>2</th>\n",
              "      <td>1.01</td>\n",
              "      <td>14.02</td>\n",
              "      <td>0.04</td>\n",
              "      <td>0.58</td>\n",
              "      <td>0.008</td>\n",
              "      <td>4.24</td>\n",
              "      <td>0.53</td>\n",
              "      <td>0.02</td>\n",
              "      <td>0.99</td>\n",
              "      <td>0.05</td>\n",
              "      <td>...</td>\n",
              "      <td>0.078</td>\n",
              "      <td>14.16</td>\n",
              "      <td>1.11</td>\n",
              "      <td>0.006</td>\n",
              "      <td>50.28</td>\n",
              "      <td>7.07</td>\n",
              "      <td>0.07</td>\n",
              "      <td>0.44</td>\n",
              "      <td>0.01</td>\n",
              "      <td>0</td>\n",
              "    </tr>\n",
              "    <tr>\n",
              "      <th>3</th>\n",
              "      <td>1.36</td>\n",
              "      <td>11.33</td>\n",
              "      <td>0.04</td>\n",
              "      <td>2.96</td>\n",
              "      <td>0.001</td>\n",
              "      <td>7.23</td>\n",
              "      <td>0.03</td>\n",
              "      <td>1.66</td>\n",
              "      <td>1.08</td>\n",
              "      <td>0.71</td>\n",
              "      <td>...</td>\n",
              "      <td>0.016</td>\n",
              "      <td>1.41</td>\n",
              "      <td>1.29</td>\n",
              "      <td>0.004</td>\n",
              "      <td>9.12</td>\n",
              "      <td>1.72</td>\n",
              "      <td>0.02</td>\n",
              "      <td>0.45</td>\n",
              "      <td>0.05</td>\n",
              "      <td>1</td>\n",
              "    </tr>\n",
              "    <tr>\n",
              "      <th>4</th>\n",
              "      <td>0.92</td>\n",
              "      <td>24.33</td>\n",
              "      <td>0.03</td>\n",
              "      <td>0.20</td>\n",
              "      <td>0.006</td>\n",
              "      <td>2.67</td>\n",
              "      <td>0.69</td>\n",
              "      <td>0.57</td>\n",
              "      <td>0.61</td>\n",
              "      <td>0.13</td>\n",
              "      <td>...</td>\n",
              "      <td>0.117</td>\n",
              "      <td>6.74</td>\n",
              "      <td>1.11</td>\n",
              "      <td>0.003</td>\n",
              "      <td>16.90</td>\n",
              "      <td>2.41</td>\n",
              "      <td>0.02</td>\n",
              "      <td>0.06</td>\n",
              "      <td>0.02</td>\n",
              "      <td>1</td>\n",
              "    </tr>\n",
              "  </tbody>\n",
              "</table>\n",
              "<p>5 rows × 21 columns</p>\n",
              "</div>\n",
              "      <button class=\"colab-df-convert\" onclick=\"convertToInteractive('df-aa540828-3891-4683-9788-a1910f8f2c6f')\"\n",
              "              title=\"Convert this dataframe to an interactive table.\"\n",
              "              style=\"display:none;\">\n",
              "        \n",
              "  <svg xmlns=\"http://www.w3.org/2000/svg\" height=\"24px\"viewBox=\"0 0 24 24\"\n",
              "       width=\"24px\">\n",
              "    <path d=\"M0 0h24v24H0V0z\" fill=\"none\"/>\n",
              "    <path d=\"M18.56 5.44l.94 2.06.94-2.06 2.06-.94-2.06-.94-.94-2.06-.94 2.06-2.06.94zm-11 1L8.5 8.5l.94-2.06 2.06-.94-2.06-.94L8.5 2.5l-.94 2.06-2.06.94zm10 10l.94 2.06.94-2.06 2.06-.94-2.06-.94-.94-2.06-.94 2.06-2.06.94z\"/><path d=\"M17.41 7.96l-1.37-1.37c-.4-.4-.92-.59-1.43-.59-.52 0-1.04.2-1.43.59L10.3 9.45l-7.72 7.72c-.78.78-.78 2.05 0 2.83L4 21.41c.39.39.9.59 1.41.59.51 0 1.02-.2 1.41-.59l7.78-7.78 2.81-2.81c.8-.78.8-2.07 0-2.86zM5.41 20L4 18.59l7.72-7.72 1.47 1.35L5.41 20z\"/>\n",
              "  </svg>\n",
              "      </button>\n",
              "      \n",
              "  <style>\n",
              "    .colab-df-container {\n",
              "      display:flex;\n",
              "      flex-wrap:wrap;\n",
              "      gap: 12px;\n",
              "    }\n",
              "\n",
              "    .colab-df-convert {\n",
              "      background-color: #E8F0FE;\n",
              "      border: none;\n",
              "      border-radius: 50%;\n",
              "      cursor: pointer;\n",
              "      display: none;\n",
              "      fill: #1967D2;\n",
              "      height: 32px;\n",
              "      padding: 0 0 0 0;\n",
              "      width: 32px;\n",
              "    }\n",
              "\n",
              "    .colab-df-convert:hover {\n",
              "      background-color: #E2EBFA;\n",
              "      box-shadow: 0px 1px 2px rgba(60, 64, 67, 0.3), 0px 1px 3px 1px rgba(60, 64, 67, 0.15);\n",
              "      fill: #174EA6;\n",
              "    }\n",
              "\n",
              "    [theme=dark] .colab-df-convert {\n",
              "      background-color: #3B4455;\n",
              "      fill: #D2E3FC;\n",
              "    }\n",
              "\n",
              "    [theme=dark] .colab-df-convert:hover {\n",
              "      background-color: #434B5C;\n",
              "      box-shadow: 0px 1px 3px 1px rgba(0, 0, 0, 0.15);\n",
              "      filter: drop-shadow(0px 1px 2px rgba(0, 0, 0, 0.3));\n",
              "      fill: #FFFFFF;\n",
              "    }\n",
              "  </style>\n",
              "\n",
              "      <script>\n",
              "        const buttonEl =\n",
              "          document.querySelector('#df-aa540828-3891-4683-9788-a1910f8f2c6f button.colab-df-convert');\n",
              "        buttonEl.style.display =\n",
              "          google.colab.kernel.accessAllowed ? 'block' : 'none';\n",
              "\n",
              "        async function convertToInteractive(key) {\n",
              "          const element = document.querySelector('#df-aa540828-3891-4683-9788-a1910f8f2c6f');\n",
              "          const dataTable =\n",
              "            await google.colab.kernel.invokeFunction('convertToInteractive',\n",
              "                                                     [key], {});\n",
              "          if (!dataTable) return;\n",
              "\n",
              "          const docLinkHtml = 'Like what you see? Visit the ' +\n",
              "            '<a target=\"_blank\" href=https://colab.research.google.com/notebooks/data_table.ipynb>data table notebook</a>'\n",
              "            + ' to learn more about interactive tables.';\n",
              "          element.innerHTML = '';\n",
              "          dataTable['output_type'] = 'display_data';\n",
              "          await google.colab.output.renderOutput(dataTable, element);\n",
              "          const docLink = document.createElement('div');\n",
              "          docLink.innerHTML = docLinkHtml;\n",
              "          element.appendChild(docLink);\n",
              "        }\n",
              "      </script>\n",
              "    </div>\n",
              "  </div>\n",
              "  "
            ]
          },
          "metadata": {},
          "execution_count": 21
        }
      ]
    },
    {
      "cell_type": "code",
      "source": [
        "df=df.dropna()"
      ],
      "metadata": {
        "execution": {
          "iopub.status.busy": "2023-06-07T00:29:35.254876Z",
          "iopub.execute_input": "2023-06-07T00:29:35.255530Z",
          "iopub.status.idle": "2023-06-07T00:29:35.264943Z",
          "shell.execute_reply.started": "2023-06-07T00:29:35.255489Z",
          "shell.execute_reply": "2023-06-07T00:29:35.263872Z"
        },
        "trusted": true,
        "id": "3QxFpuz7WTtZ"
      },
      "execution_count": null,
      "outputs": []
    },
    {
      "cell_type": "code",
      "source": [
        "df.shape"
      ],
      "metadata": {
        "execution": {
          "iopub.status.busy": "2023-06-07T00:26:17.767828Z",
          "iopub.execute_input": "2023-06-07T00:26:17.768497Z",
          "iopub.status.idle": "2023-06-07T00:26:17.781378Z",
          "shell.execute_reply.started": "2023-06-07T00:26:17.768452Z",
          "shell.execute_reply": "2023-06-07T00:26:17.780313Z"
        },
        "trusted": true,
        "colab": {
          "base_uri": "https://localhost:8080/"
        },
        "id": "RCFIn-4QWTta",
        "outputId": "1403399b-bb61-4b9a-dda8-a3364abd6ba3"
      },
      "execution_count": null,
      "outputs": [
        {
          "output_type": "execute_result",
          "data": {
            "text/plain": [
              "(7996, 21)"
            ]
          },
          "metadata": {},
          "execution_count": 23
        }
      ]
    },
    {
      "cell_type": "code",
      "source": [
        "df.isnull().sum()"
      ],
      "metadata": {
        "execution": {
          "iopub.status.busy": "2023-06-07T00:26:17.783063Z",
          "iopub.execute_input": "2023-06-07T00:26:17.783668Z",
          "iopub.status.idle": "2023-06-07T00:26:17.803510Z",
          "shell.execute_reply.started": "2023-06-07T00:26:17.783625Z",
          "shell.execute_reply": "2023-06-07T00:26:17.802176Z"
        },
        "trusted": true,
        "colab": {
          "base_uri": "https://localhost:8080/"
        },
        "id": "h9FSvTgIWTta",
        "outputId": "6a7faa96-9136-431f-83de-621b391d771a"
      },
      "execution_count": null,
      "outputs": [
        {
          "output_type": "execute_result",
          "data": {
            "text/plain": [
              "aluminium      0\n",
              "ammonia        0\n",
              "arsenic        0\n",
              "barium         0\n",
              "cadmium        0\n",
              "chloramine     0\n",
              "chromium       0\n",
              "copper         0\n",
              "flouride       0\n",
              "bacteria       0\n",
              "viruses        0\n",
              "lead           0\n",
              "nitrates       0\n",
              "nitrites       0\n",
              "mercury        0\n",
              "perchlorate    0\n",
              "radium         0\n",
              "selenium       0\n",
              "silver         0\n",
              "uranium        0\n",
              "is_safe        0\n",
              "dtype: int64"
            ]
          },
          "metadata": {},
          "execution_count": 24
        }
      ]
    },
    {
      "cell_type": "code",
      "source": [
        "df['is_safe'].value_counts()"
      ],
      "metadata": {
        "execution": {
          "iopub.status.busy": "2023-06-07T00:26:17.809771Z",
          "iopub.execute_input": "2023-06-07T00:26:17.810568Z",
          "iopub.status.idle": "2023-06-07T00:26:17.820965Z",
          "shell.execute_reply.started": "2023-06-07T00:26:17.810518Z",
          "shell.execute_reply": "2023-06-07T00:26:17.819719Z"
        },
        "trusted": true,
        "colab": {
          "base_uri": "https://localhost:8080/"
        },
        "id": "05ALvXnAWTtb",
        "outputId": "91344926-828c-48bc-8749-12c19530ef83"
      },
      "execution_count": null,
      "outputs": [
        {
          "output_type": "execute_result",
          "data": {
            "text/plain": [
              "0    7084\n",
              "1     912\n",
              "Name: is_safe, dtype: int64"
            ]
          },
          "metadata": {},
          "execution_count": 25
        }
      ]
    },
    {
      "cell_type": "code",
      "source": [
        "df.info()"
      ],
      "metadata": {
        "execution": {
          "iopub.status.busy": "2023-06-07T00:26:17.822872Z",
          "iopub.execute_input": "2023-06-07T00:26:17.823259Z",
          "iopub.status.idle": "2023-06-07T00:26:17.848144Z",
          "shell.execute_reply.started": "2023-06-07T00:26:17.823225Z",
          "shell.execute_reply": "2023-06-07T00:26:17.846781Z"
        },
        "trusted": true,
        "colab": {
          "base_uri": "https://localhost:8080/"
        },
        "id": "MzoxcBRLWTtb",
        "outputId": "2c947f59-3c9a-4020-fa1a-55cf3f811f9e"
      },
      "execution_count": null,
      "outputs": [
        {
          "output_type": "stream",
          "name": "stdout",
          "text": [
            "<class 'pandas.core.frame.DataFrame'>\n",
            "Int64Index: 7996 entries, 0 to 7998\n",
            "Data columns (total 21 columns):\n",
            " #   Column       Non-Null Count  Dtype  \n",
            "---  ------       --------------  -----  \n",
            " 0   aluminium    7996 non-null   float64\n",
            " 1   ammonia      7996 non-null   object \n",
            " 2   arsenic      7996 non-null   float64\n",
            " 3   barium       7996 non-null   float64\n",
            " 4   cadmium      7996 non-null   float64\n",
            " 5   chloramine   7996 non-null   float64\n",
            " 6   chromium     7996 non-null   float64\n",
            " 7   copper       7996 non-null   float64\n",
            " 8   flouride     7996 non-null   float64\n",
            " 9   bacteria     7996 non-null   float64\n",
            " 10  viruses      7996 non-null   float64\n",
            " 11  lead         7996 non-null   float64\n",
            " 12  nitrates     7996 non-null   float64\n",
            " 13  nitrites     7996 non-null   float64\n",
            " 14  mercury      7996 non-null   float64\n",
            " 15  perchlorate  7996 non-null   float64\n",
            " 16  radium       7996 non-null   float64\n",
            " 17  selenium     7996 non-null   float64\n",
            " 18  silver       7996 non-null   float64\n",
            " 19  uranium      7996 non-null   float64\n",
            " 20  is_safe      7996 non-null   object \n",
            "dtypes: float64(19), object(2)\n",
            "memory usage: 1.3+ MB\n"
          ]
        }
      ]
    },
    {
      "cell_type": "code",
      "source": [
        "df['ammonia']=df['ammonia'].astype(float)\n",
        "df['is_safe']=df['is_safe'].astype(int)"
      ],
      "metadata": {
        "execution": {
          "iopub.status.busy": "2023-06-07T00:26:17.849902Z",
          "iopub.execute_input": "2023-06-07T00:26:17.850719Z",
          "iopub.status.idle": "2023-06-07T00:26:17.860558Z",
          "shell.execute_reply.started": "2023-06-07T00:26:17.850670Z",
          "shell.execute_reply": "2023-06-07T00:26:17.859179Z"
        },
        "trusted": true,
        "id": "42J8UNedWTtb"
      },
      "execution_count": null,
      "outputs": []
    },
    {
      "cell_type": "code",
      "source": [
        "df.info()"
      ],
      "metadata": {
        "execution": {
          "iopub.status.busy": "2023-06-07T00:26:17.862269Z",
          "iopub.execute_input": "2023-06-07T00:26:17.863044Z",
          "iopub.status.idle": "2023-06-07T00:26:17.882941Z",
          "shell.execute_reply.started": "2023-06-07T00:26:17.862999Z",
          "shell.execute_reply": "2023-06-07T00:26:17.881776Z"
        },
        "trusted": true,
        "colab": {
          "base_uri": "https://localhost:8080/"
        },
        "id": "faEzsC10WTtb",
        "outputId": "aa9901f6-e604-457a-8fc7-eec84124eef5"
      },
      "execution_count": null,
      "outputs": [
        {
          "output_type": "stream",
          "name": "stdout",
          "text": [
            "<class 'pandas.core.frame.DataFrame'>\n",
            "Int64Index: 7996 entries, 0 to 7998\n",
            "Data columns (total 21 columns):\n",
            " #   Column       Non-Null Count  Dtype  \n",
            "---  ------       --------------  -----  \n",
            " 0   aluminium    7996 non-null   float64\n",
            " 1   ammonia      7996 non-null   float64\n",
            " 2   arsenic      7996 non-null   float64\n",
            " 3   barium       7996 non-null   float64\n",
            " 4   cadmium      7996 non-null   float64\n",
            " 5   chloramine   7996 non-null   float64\n",
            " 6   chromium     7996 non-null   float64\n",
            " 7   copper       7996 non-null   float64\n",
            " 8   flouride     7996 non-null   float64\n",
            " 9   bacteria     7996 non-null   float64\n",
            " 10  viruses      7996 non-null   float64\n",
            " 11  lead         7996 non-null   float64\n",
            " 12  nitrates     7996 non-null   float64\n",
            " 13  nitrites     7996 non-null   float64\n",
            " 14  mercury      7996 non-null   float64\n",
            " 15  perchlorate  7996 non-null   float64\n",
            " 16  radium       7996 non-null   float64\n",
            " 17  selenium     7996 non-null   float64\n",
            " 18  silver       7996 non-null   float64\n",
            " 19  uranium      7996 non-null   float64\n",
            " 20  is_safe      7996 non-null   int64  \n",
            "dtypes: float64(20), int64(1)\n",
            "memory usage: 1.3 MB\n"
          ]
        }
      ]
    },
    {
      "cell_type": "code",
      "source": [
        "# columns info\n",
        "\n",
        "len(df.columns)"
      ],
      "metadata": {
        "execution": {
          "iopub.status.busy": "2023-06-07T00:26:17.884769Z",
          "iopub.execute_input": "2023-06-07T00:26:17.885546Z",
          "iopub.status.idle": "2023-06-07T00:26:17.892897Z",
          "shell.execute_reply.started": "2023-06-07T00:26:17.885501Z",
          "shell.execute_reply": "2023-06-07T00:26:17.891709Z"
        },
        "trusted": true,
        "colab": {
          "base_uri": "https://localhost:8080/"
        },
        "id": "9cxWgoGvWTtc",
        "outputId": "8c28ad0d-152b-4823-d1e8-7c2f04e143e5"
      },
      "execution_count": null,
      "outputs": [
        {
          "output_type": "execute_result",
          "data": {
            "text/plain": [
              "21"
            ]
          },
          "metadata": {},
          "execution_count": 28
        }
      ]
    },
    {
      "cell_type": "code",
      "source": [
        "r=3\n",
        "c=7\n",
        "it=1\n",
        "for i in df.columns:\n",
        "    plt.subplot(r,c,it)\n",
        "    sns.distplot(df.loc[:,i],hist=False)\n",
        "    plt.title(i)\n",
        "    plt.grid()\n",
        "    it+=1\n",
        "plt.tight_layout()\n",
        "plt.show()"
      ],
      "metadata": {
        "execution": {
          "iopub.status.busy": "2023-06-07T00:26:17.894502Z",
          "iopub.execute_input": "2023-06-07T00:26:17.895173Z",
          "iopub.status.idle": "2023-06-07T00:26:21.308418Z",
          "shell.execute_reply.started": "2023-06-07T00:26:17.895131Z",
          "shell.execute_reply": "2023-06-07T00:26:21.307500Z"
        },
        "trusted": true,
        "colab": {
          "base_uri": "https://localhost:8080/",
          "height": 1000
        },
        "id": "TEJh0a4FWTtc",
        "outputId": "1fad555b-35e3-4812-a4a9-3b50ee45aa5d"
      },
      "execution_count": null,
      "outputs": [
        {
          "output_type": "stream",
          "name": "stderr",
          "text": [
            "<ipython-input-32-e9e63c35bc09>:6: UserWarning: \n",
            "\n",
            "`distplot` is a deprecated function and will be removed in seaborn v0.14.0.\n",
            "\n",
            "Please adapt your code to use either `displot` (a figure-level function with\n",
            "similar flexibility) or `kdeplot` (an axes-level function for kernel density plots).\n",
            "\n",
            "For a guide to updating your code to use the new functions, please see\n",
            "https://gist.github.com/mwaskom/de44147ed2974457ad6372750bbe5751\n",
            "\n",
            "  sns.distplot(df.loc[:,i],hist=False)\n",
            "<ipython-input-32-e9e63c35bc09>:6: UserWarning: \n",
            "\n",
            "`distplot` is a deprecated function and will be removed in seaborn v0.14.0.\n",
            "\n",
            "Please adapt your code to use either `displot` (a figure-level function with\n",
            "similar flexibility) or `kdeplot` (an axes-level function for kernel density plots).\n",
            "\n",
            "For a guide to updating your code to use the new functions, please see\n",
            "https://gist.github.com/mwaskom/de44147ed2974457ad6372750bbe5751\n",
            "\n",
            "  sns.distplot(df.loc[:,i],hist=False)\n",
            "<ipython-input-32-e9e63c35bc09>:6: UserWarning: \n",
            "\n",
            "`distplot` is a deprecated function and will be removed in seaborn v0.14.0.\n",
            "\n",
            "Please adapt your code to use either `displot` (a figure-level function with\n",
            "similar flexibility) or `kdeplot` (an axes-level function for kernel density plots).\n",
            "\n",
            "For a guide to updating your code to use the new functions, please see\n",
            "https://gist.github.com/mwaskom/de44147ed2974457ad6372750bbe5751\n",
            "\n",
            "  sns.distplot(df.loc[:,i],hist=False)\n",
            "<ipython-input-32-e9e63c35bc09>:6: UserWarning: \n",
            "\n",
            "`distplot` is a deprecated function and will be removed in seaborn v0.14.0.\n",
            "\n",
            "Please adapt your code to use either `displot` (a figure-level function with\n",
            "similar flexibility) or `kdeplot` (an axes-level function for kernel density plots).\n",
            "\n",
            "For a guide to updating your code to use the new functions, please see\n",
            "https://gist.github.com/mwaskom/de44147ed2974457ad6372750bbe5751\n",
            "\n",
            "  sns.distplot(df.loc[:,i],hist=False)\n",
            "<ipython-input-32-e9e63c35bc09>:6: UserWarning: \n",
            "\n",
            "`distplot` is a deprecated function and will be removed in seaborn v0.14.0.\n",
            "\n",
            "Please adapt your code to use either `displot` (a figure-level function with\n",
            "similar flexibility) or `kdeplot` (an axes-level function for kernel density plots).\n",
            "\n",
            "For a guide to updating your code to use the new functions, please see\n",
            "https://gist.github.com/mwaskom/de44147ed2974457ad6372750bbe5751\n",
            "\n",
            "  sns.distplot(df.loc[:,i],hist=False)\n",
            "<ipython-input-32-e9e63c35bc09>:6: UserWarning: \n",
            "\n",
            "`distplot` is a deprecated function and will be removed in seaborn v0.14.0.\n",
            "\n",
            "Please adapt your code to use either `displot` (a figure-level function with\n",
            "similar flexibility) or `kdeplot` (an axes-level function for kernel density plots).\n",
            "\n",
            "For a guide to updating your code to use the new functions, please see\n",
            "https://gist.github.com/mwaskom/de44147ed2974457ad6372750bbe5751\n",
            "\n",
            "  sns.distplot(df.loc[:,i],hist=False)\n",
            "<ipython-input-32-e9e63c35bc09>:6: UserWarning: \n",
            "\n",
            "`distplot` is a deprecated function and will be removed in seaborn v0.14.0.\n",
            "\n",
            "Please adapt your code to use either `displot` (a figure-level function with\n",
            "similar flexibility) or `kdeplot` (an axes-level function for kernel density plots).\n",
            "\n",
            "For a guide to updating your code to use the new functions, please see\n",
            "https://gist.github.com/mwaskom/de44147ed2974457ad6372750bbe5751\n",
            "\n",
            "  sns.distplot(df.loc[:,i],hist=False)\n",
            "<ipython-input-32-e9e63c35bc09>:6: UserWarning: \n",
            "\n",
            "`distplot` is a deprecated function and will be removed in seaborn v0.14.0.\n",
            "\n",
            "Please adapt your code to use either `displot` (a figure-level function with\n",
            "similar flexibility) or `kdeplot` (an axes-level function for kernel density plots).\n",
            "\n",
            "For a guide to updating your code to use the new functions, please see\n",
            "https://gist.github.com/mwaskom/de44147ed2974457ad6372750bbe5751\n",
            "\n",
            "  sns.distplot(df.loc[:,i],hist=False)\n",
            "<ipython-input-32-e9e63c35bc09>:6: UserWarning: \n",
            "\n",
            "`distplot` is a deprecated function and will be removed in seaborn v0.14.0.\n",
            "\n",
            "Please adapt your code to use either `displot` (a figure-level function with\n",
            "similar flexibility) or `kdeplot` (an axes-level function for kernel density plots).\n",
            "\n",
            "For a guide to updating your code to use the new functions, please see\n",
            "https://gist.github.com/mwaskom/de44147ed2974457ad6372750bbe5751\n",
            "\n",
            "  sns.distplot(df.loc[:,i],hist=False)\n",
            "<ipython-input-32-e9e63c35bc09>:6: UserWarning: \n",
            "\n",
            "`distplot` is a deprecated function and will be removed in seaborn v0.14.0.\n",
            "\n",
            "Please adapt your code to use either `displot` (a figure-level function with\n",
            "similar flexibility) or `kdeplot` (an axes-level function for kernel density plots).\n",
            "\n",
            "For a guide to updating your code to use the new functions, please see\n",
            "https://gist.github.com/mwaskom/de44147ed2974457ad6372750bbe5751\n",
            "\n",
            "  sns.distplot(df.loc[:,i],hist=False)\n",
            "<ipython-input-32-e9e63c35bc09>:6: UserWarning: \n",
            "\n",
            "`distplot` is a deprecated function and will be removed in seaborn v0.14.0.\n",
            "\n",
            "Please adapt your code to use either `displot` (a figure-level function with\n",
            "similar flexibility) or `kdeplot` (an axes-level function for kernel density plots).\n",
            "\n",
            "For a guide to updating your code to use the new functions, please see\n",
            "https://gist.github.com/mwaskom/de44147ed2974457ad6372750bbe5751\n",
            "\n",
            "  sns.distplot(df.loc[:,i],hist=False)\n",
            "<ipython-input-32-e9e63c35bc09>:6: UserWarning: \n",
            "\n",
            "`distplot` is a deprecated function and will be removed in seaborn v0.14.0.\n",
            "\n",
            "Please adapt your code to use either `displot` (a figure-level function with\n",
            "similar flexibility) or `kdeplot` (an axes-level function for kernel density plots).\n",
            "\n",
            "For a guide to updating your code to use the new functions, please see\n",
            "https://gist.github.com/mwaskom/de44147ed2974457ad6372750bbe5751\n",
            "\n",
            "  sns.distplot(df.loc[:,i],hist=False)\n",
            "<ipython-input-32-e9e63c35bc09>:6: UserWarning: \n",
            "\n",
            "`distplot` is a deprecated function and will be removed in seaborn v0.14.0.\n",
            "\n",
            "Please adapt your code to use either `displot` (a figure-level function with\n",
            "similar flexibility) or `kdeplot` (an axes-level function for kernel density plots).\n",
            "\n",
            "For a guide to updating your code to use the new functions, please see\n",
            "https://gist.github.com/mwaskom/de44147ed2974457ad6372750bbe5751\n",
            "\n",
            "  sns.distplot(df.loc[:,i],hist=False)\n",
            "<ipython-input-32-e9e63c35bc09>:6: UserWarning: \n",
            "\n",
            "`distplot` is a deprecated function and will be removed in seaborn v0.14.0.\n",
            "\n",
            "Please adapt your code to use either `displot` (a figure-level function with\n",
            "similar flexibility) or `kdeplot` (an axes-level function for kernel density plots).\n",
            "\n",
            "For a guide to updating your code to use the new functions, please see\n",
            "https://gist.github.com/mwaskom/de44147ed2974457ad6372750bbe5751\n",
            "\n",
            "  sns.distplot(df.loc[:,i],hist=False)\n",
            "<ipython-input-32-e9e63c35bc09>:6: UserWarning: \n",
            "\n",
            "`distplot` is a deprecated function and will be removed in seaborn v0.14.0.\n",
            "\n",
            "Please adapt your code to use either `displot` (a figure-level function with\n",
            "similar flexibility) or `kdeplot` (an axes-level function for kernel density plots).\n",
            "\n",
            "For a guide to updating your code to use the new functions, please see\n",
            "https://gist.github.com/mwaskom/de44147ed2974457ad6372750bbe5751\n",
            "\n",
            "  sns.distplot(df.loc[:,i],hist=False)\n",
            "<ipython-input-32-e9e63c35bc09>:6: UserWarning: \n",
            "\n",
            "`distplot` is a deprecated function and will be removed in seaborn v0.14.0.\n",
            "\n",
            "Please adapt your code to use either `displot` (a figure-level function with\n",
            "similar flexibility) or `kdeplot` (an axes-level function for kernel density plots).\n",
            "\n",
            "For a guide to updating your code to use the new functions, please see\n",
            "https://gist.github.com/mwaskom/de44147ed2974457ad6372750bbe5751\n",
            "\n",
            "  sns.distplot(df.loc[:,i],hist=False)\n",
            "<ipython-input-32-e9e63c35bc09>:6: UserWarning: \n",
            "\n",
            "`distplot` is a deprecated function and will be removed in seaborn v0.14.0.\n",
            "\n",
            "Please adapt your code to use either `displot` (a figure-level function with\n",
            "similar flexibility) or `kdeplot` (an axes-level function for kernel density plots).\n",
            "\n",
            "For a guide to updating your code to use the new functions, please see\n",
            "https://gist.github.com/mwaskom/de44147ed2974457ad6372750bbe5751\n",
            "\n",
            "  sns.distplot(df.loc[:,i],hist=False)\n",
            "<ipython-input-32-e9e63c35bc09>:6: UserWarning: \n",
            "\n",
            "`distplot` is a deprecated function and will be removed in seaborn v0.14.0.\n",
            "\n",
            "Please adapt your code to use either `displot` (a figure-level function with\n",
            "similar flexibility) or `kdeplot` (an axes-level function for kernel density plots).\n",
            "\n",
            "For a guide to updating your code to use the new functions, please see\n",
            "https://gist.github.com/mwaskom/de44147ed2974457ad6372750bbe5751\n",
            "\n",
            "  sns.distplot(df.loc[:,i],hist=False)\n",
            "<ipython-input-32-e9e63c35bc09>:6: UserWarning: \n",
            "\n",
            "`distplot` is a deprecated function and will be removed in seaborn v0.14.0.\n",
            "\n",
            "Please adapt your code to use either `displot` (a figure-level function with\n",
            "similar flexibility) or `kdeplot` (an axes-level function for kernel density plots).\n",
            "\n",
            "For a guide to updating your code to use the new functions, please see\n",
            "https://gist.github.com/mwaskom/de44147ed2974457ad6372750bbe5751\n",
            "\n",
            "  sns.distplot(df.loc[:,i],hist=False)\n",
            "<ipython-input-32-e9e63c35bc09>:6: UserWarning: \n",
            "\n",
            "`distplot` is a deprecated function and will be removed in seaborn v0.14.0.\n",
            "\n",
            "Please adapt your code to use either `displot` (a figure-level function with\n",
            "similar flexibility) or `kdeplot` (an axes-level function for kernel density plots).\n",
            "\n",
            "For a guide to updating your code to use the new functions, please see\n",
            "https://gist.github.com/mwaskom/de44147ed2974457ad6372750bbe5751\n",
            "\n",
            "  sns.distplot(df.loc[:,i],hist=False)\n",
            "<ipython-input-32-e9e63c35bc09>:6: UserWarning: \n",
            "\n",
            "`distplot` is a deprecated function and will be removed in seaborn v0.14.0.\n",
            "\n",
            "Please adapt your code to use either `displot` (a figure-level function with\n",
            "similar flexibility) or `kdeplot` (an axes-level function for kernel density plots).\n",
            "\n",
            "For a guide to updating your code to use the new functions, please see\n",
            "https://gist.github.com/mwaskom/de44147ed2974457ad6372750bbe5751\n",
            "\n",
            "  sns.distplot(df.loc[:,i],hist=False)\n"
          ]
        },
        {
          "output_type": "display_data",
          "data": {
            "text/plain": [
              "<Figure size 640x480 with 21 Axes>"
            ],
            "image/png": "[encoded data removed]"
          },
          "metadata": {}
        }
      ]
    },
    {
      "cell_type": "code",
      "source": [
        "# outliers\n",
        "\n",
        "df.boxplot()\n",
        "plt.xticks(rotation=90)\n",
        "plt.show()"
      ],
      "metadata": {
        "execution": {
          "iopub.status.busy": "2023-06-07T00:26:21.309493Z",
          "iopub.execute_input": "2023-06-07T00:26:21.310272Z",
          "iopub.status.idle": "2023-06-07T00:26:21.932363Z",
          "shell.execute_reply.started": "2023-06-07T00:26:21.310234Z",
          "shell.execute_reply": "2023-06-07T00:26:21.931194Z"
        },
        "trusted": true,
        "colab": {
          "base_uri": "https://localhost:8080/",
          "height": 496
        },
        "id": "6PQx1oFhWTtc",
        "outputId": "2d2fc26b-5c8a-4c8a-da27-c3d5fe267339"
      },
      "execution_count": null,
      "outputs": [
        {
          "output_type": "display_data",
          "data": {
            "text/plain": [
              "<Figure size 640x480 with 1 Axes>"
            ],
            "image/png": "[encoded data removed]"
          },
          "metadata": {}
        }
      ]
    },
    {
      "cell_type": "code",
      "source": [
        "# Bivariate Analysis\n",
        "\n",
        "len(df.columns)"
      ],
      "metadata": {
        "execution": {
          "iopub.status.busy": "2023-06-07T00:26:21.934053Z",
          "iopub.execute_input": "2023-06-07T00:26:21.934727Z",
          "iopub.status.idle": "2023-06-07T00:26:21.940354Z",
          "shell.execute_reply.started": "2023-06-07T00:26:21.934690Z",
          "shell.execute_reply": "2023-06-07T00:26:21.939191Z"
        },
        "trusted": true,
        "colab": {
          "base_uri": "https://localhost:8080/"
        },
        "id": "M2AxepOeWTtd",
        "outputId": "40812e77-fe56-4abc-86c3-e920cb8d1904"
      },
      "execution_count": null,
      "outputs": [
        {
          "output_type": "execute_result",
          "data": {
            "text/plain": [
              "21"
            ]
          },
          "metadata": {},
          "execution_count": 34
        }
      ]
    },
    {
      "cell_type": "code",
      "source": [
        "r=3\n",
        "c=7\n",
        "it=1\n",
        "for i in df.columns:\n",
        "    plt.subplot(r,c,it)\n",
        "    sns.barplot(y=df.loc[:,i],x='is_safe',data=df)\n",
        "    plt.title(i)\n",
        "    it+=1\n",
        "plt.tight_layout()\n",
        "plt.show()"
      ],
      "metadata": {
        "execution": {
          "iopub.status.busy": "2023-06-07T00:26:21.941650Z",
          "iopub.execute_input": "2023-06-07T00:26:21.942011Z",
          "iopub.status.idle": "2023-06-07T00:26:26.879857Z",
          "shell.execute_reply.started": "2023-06-07T00:26:21.941955Z",
          "shell.execute_reply": "2023-06-07T00:26:26.878767Z"
        },
        "trusted": true,
        "colab": {
          "base_uri": "https://localhost:8080/",
          "height": 487
        },
        "id": "3Q4pFVOqWTtd",
        "outputId": "e23186fc-a960-4168-afb2-c73a1e44cc07"
      },
      "execution_count": null,
      "outputs": [
        {
          "output_type": "display_data",
          "data": {
            "text/plain": [
              "<Figure size 640x480 with 21 Axes>"
            ],
            "image/png": "[encoded data removed]"
          },
          "metadata": {}
        }
      ]
    },
    {
      "cell_type": "code",
      "source": [
        "y = df['is_safe']\n",
        "x = df.drop('is_safe',axis=1)"
      ],
      "metadata": {
        "execution": {
          "iopub.status.busy": "2023-06-07T00:34:33.144382Z",
          "iopub.execute_input": "2023-06-07T00:34:33.144877Z",
          "iopub.status.idle": "2023-06-07T00:34:33.152475Z",
          "shell.execute_reply.started": "2023-06-07T00:34:33.144832Z",
          "shell.execute_reply": "2023-06-07T00:34:33.151065Z"
        },
        "trusted": true,
        "id": "fIdASdEaWTtd"
      },
      "execution_count": null,
      "outputs": []
    },
    {
      "cell_type": "code",
      "source": [
        "xc = sm.add_constant(x)\n",
        "xc.head()"
      ],
      "metadata": {
        "execution": {
          "iopub.status.busy": "2023-06-07T00:34:35.568282Z",
          "iopub.execute_input": "2023-06-07T00:34:35.569411Z",
          "iopub.status.idle": "2023-06-07T00:34:35.605268Z",
          "shell.execute_reply.started": "2023-06-07T00:34:35.569365Z",
          "shell.execute_reply": "2023-06-07T00:34:35.604236Z"
        },
        "trusted": true,
        "colab": {
          "base_uri": "https://localhost:8080/",
          "height": 297
        },
        "id": "xaQJhLk2WTtd",
        "outputId": "f36a03e5-7dc3-4e66-db4d-7350115df561"
      },
      "execution_count": null,
      "outputs": [
        {
          "output_type": "execute_result",
          "data": {
            "text/plain": [
              "   const  aluminium  ammonia  arsenic  barium  cadmium  chloramine  chromium  \\\n",
              "0    1.0       1.65     9.08     0.04    2.85    0.007        0.35      0.83   \n",
              "1    1.0       2.32    21.16     0.01    3.31    0.002        5.28      0.68   \n",
              "2    1.0       1.01    14.02     0.04    0.58    0.008        4.24      0.53   \n",
              "3    1.0       1.36    11.33     0.04    2.96    0.001        7.23      0.03   \n",
              "4    1.0       0.92    24.33     0.03    0.20    0.006        2.67      0.69   \n",
              "\n",
              "   copper  flouride  ...  viruses   lead  nitrates  nitrites  mercury  \\\n",
              "0    0.17      0.05  ...    0.000  0.054     16.08      1.13    0.007   \n",
              "1    0.66      0.90  ...    0.650  0.100      2.01      1.93    0.003   \n",
              "2    0.02      0.99  ...    0.003  0.078     14.16      1.11    0.006   \n",
              "3    1.66      1.08  ...    0.710  0.016      1.41      1.29    0.004   \n",
              "4    0.57      0.61  ...    0.001  0.117      6.74      1.11    0.003   \n",
              "\n",
              "   perchlorate  radium  selenium  silver  uranium  \n",
              "0        37.75    6.78      0.08    0.34     0.02  \n",
              "1        32.26    3.21      0.08    0.27     0.05  \n",
              "2        50.28    7.07      0.07    0.44     0.01  \n",
              "3         9.12    1.72      0.02    0.45     0.05  \n",
              "4        16.90    2.41      0.02    0.06     0.02  \n",
              "\n",
              "[5 rows x 21 columns]"
            ],
            "text/html": [
              "\n",
              "  <div id=\"df-f39d94ee-5190-47d1-86ea-c176aa2a3a7d\">\n",
              "    <div class=\"colab-df-container\">\n",
              "      <div>\n",
              "<style scoped>\n",
              "    .dataframe tbody tr th:only-of-type {\n",
              "        vertical-align: middle;\n",
              "    }\n",
              "\n",
              "    .dataframe tbody tr th {\n",
              "        vertical-align: top;\n",
              "    }\n",
              "\n",
              "    .dataframe thead th {\n",
              "        text-align: right;\n",
              "    }\n",
              "</style>\n",
              "<table border=\"1\" class=\"dataframe\">\n",
              "  <thead>\n",
              "    <tr style=\"text-align: right;\">\n",
              "      <th></th>\n",
              "      <th>const</th>\n",
              "      <th>aluminium</th>\n",
              "      <th>ammonia</th>\n",
              "      <th>arsenic</th>\n",
              "      <th>barium</th>\n",
              "      <th>cadmium</th>\n",
              "      <th>chloramine</th>\n",
              "      <th>chromium</th>\n",
              "      <th>copper</th>\n",
              "      <th>flouride</th>\n",
              "      <th>...</th>\n",
              "      <th>viruses</th>\n",
              "      <th>lead</th>\n",
              "      <th>nitrates</th>\n",
              "      <th>nitrites</th>\n",
              "      <th>mercury</th>\n",
              "      <th>perchlorate</th>\n",
              "      <th>radium</th>\n",
              "      <th>selenium</th>\n",
              "      <th>silver</th>\n",
              "      <th>uranium</th>\n",
              "    </tr>\n",
              "  </thead>\n",
              "  <tbody>\n",
              "    <tr>\n",
              "      <th>0</th>\n",
              "      <td>1.0</td>\n",
              "      <td>1.65</td>\n",
              "      <td>9.08</td>\n",
              "      <td>0.04</td>\n",
              "      <td>2.85</td>\n",
              "      <td>0.007</td>\n",
              "      <td>0.35</td>\n",
              "      <td>0.83</td>\n",
              "      <td>0.17</td>\n",
              "      <td>0.05</td>\n",
              "      <td>...</td>\n",
              "      <td>0.000</td>\n",
              "      <td>0.054</td>\n",
              "      <td>16.08</td>\n",
              "      <td>1.13</td>\n",
              "      <td>0.007</td>\n",
              "      <td>37.75</td>\n",
              "      <td>6.78</td>\n",
              "      <td>0.08</td>\n",
              "      <td>0.34</td>\n",
              "      <td>0.02</td>\n",
              "    </tr>\n",
              "    <tr>\n",
              "      <th>1</th>\n",
              "      <td>1.0</td>\n",
              "      <td>2.32</td>\n",
              "      <td>21.16</td>\n",
              "      <td>0.01</td>\n",
              "      <td>3.31</td>\n",
              "      <td>0.002</td>\n",
              "      <td>5.28</td>\n",
              "      <td>0.68</td>\n",
              "      <td>0.66</td>\n",
              "      <td>0.90</td>\n",
              "      <td>...</td>\n",
              "      <td>0.650</td>\n",
              "      <td>0.100</td>\n",
              "      <td>2.01</td>\n",
              "      <td>1.93</td>\n",
              "      <td>0.003</td>\n",
              "      <td>32.26</td>\n",
              "      <td>3.21</td>\n",
              "      <td>0.08</td>\n",
              "      <td>0.27</td>\n",
              "      <td>0.05</td>\n",
              "    </tr>\n",
              "    <tr>\n",
              "      <th>2</th>\n",
              "      <td>1.0</td>\n",
              "      <td>1.01</td>\n",
              "      <td>14.02</td>\n",
              "      <td>0.04</td>\n",
              "      <td>0.58</td>\n",
              "      <td>0.008</td>\n",
              "      <td>4.24</td>\n",
              "      <td>0.53</td>\n",
              "      <td>0.02</td>\n",
              "      <td>0.99</td>\n",
              "      <td>...</td>\n",
              "      <td>0.003</td>\n",
              "      <td>0.078</td>\n",
              "      <td>14.16</td>\n",
              "      <td>1.11</td>\n",
              "      <td>0.006</td>\n",
              "      <td>50.28</td>\n",
              "      <td>7.07</td>\n",
              "      <td>0.07</td>\n",
              "      <td>0.44</td>\n",
              "      <td>0.01</td>\n",
              "    </tr>\n",
              "    <tr>\n",
              "      <th>3</th>\n",
              "      <td>1.0</td>\n",
              "      <td>1.36</td>\n",
              "      <td>11.33</td>\n",
              "      <td>0.04</td>\n",
              "      <td>2.96</td>\n",
              "      <td>0.001</td>\n",
              "      <td>7.23</td>\n",
              "      <td>0.03</td>\n",
              "      <td>1.66</td>\n",
              "      <td>1.08</td>\n",
              "      <td>...</td>\n",
              "      <td>0.710</td>\n",
              "      <td>0.016</td>\n",
              "      <td>1.41</td>\n",
              "      <td>1.29</td>\n",
              "      <td>0.004</td>\n",
              "      <td>9.12</td>\n",
              "      <td>1.72</td>\n",
              "      <td>0.02</td>\n",
              "      <td>0.45</td>\n",
              "      <td>0.05</td>\n",
              "    </tr>\n",
              "    <tr>\n",
              "      <th>4</th>\n",
              "      <td>1.0</td>\n",
              "      <td>0.92</td>\n",
              "      <td>24.33</td>\n",
              "      <td>0.03</td>\n",
              "      <td>0.20</td>\n",
              "      <td>0.006</td>\n",
              "      <td>2.67</td>\n",
              "      <td>0.69</td>\n",
              "      <td>0.57</td>\n",
              "      <td>0.61</td>\n",
              "      <td>...</td>\n",
              "      <td>0.001</td>\n",
              "      <td>0.117</td>\n",
              "      <td>6.74</td>\n",
              "      <td>1.11</td>\n",
              "      <td>0.003</td>\n",
              "      <td>16.90</td>\n",
              "      <td>2.41</td>\n",
              "      <td>0.02</td>\n",
              "      <td>0.06</td>\n",
              "      <td>0.02</td>\n",
              "    </tr>\n",
              "  </tbody>\n",
              "</table>\n",
              "<p>5 rows × 21 columns</p>\n",
              "</div>\n",
              "      <button class=\"colab-df-convert\" onclick=\"convertToInteractive('df-f39d94ee-5190-47d1-86ea-c176aa2a3a7d')\"\n",
              "              title=\"Convert this dataframe to an interactive table.\"\n",
              "              style=\"display:none;\">\n",
              "        \n",
              "  <svg xmlns=\"http://www.w3.org/2000/svg\" height=\"24px\"viewBox=\"0 0 24 24\"\n",
              "       width=\"24px\">\n",
              "    <path d=\"M0 0h24v24H0V0z\" fill=\"none\"/>\n",
              "    <path d=\"M18.56 5.44l.94 2.06.94-2.06 2.06-.94-2.06-.94-.94-2.06-.94 2.06-2.06.94zm-11 1L8.5 8.5l.94-2.06 2.06-.94-2.06-.94L8.5 2.5l-.94 2.06-2.06.94zm10 10l.94 2.06.94-2.06 2.06-.94-2.06-.94-.94-2.06-.94 2.06-2.06.94z\"/><path d=\"M17.41 7.96l-1.37-1.37c-.4-.4-.92-.59-1.43-.59-.52 0-1.04.2-1.43.59L10.3 9.45l-7.72 7.72c-.78.78-.78 2.05 0 2.83L4 21.41c.39.39.9.59 1.41.59.51 0 1.02-.2 1.41-.59l7.78-7.78 2.81-2.81c.8-.78.8-2.07 0-2.86zM5.41 20L4 18.59l7.72-7.72 1.47 1.35L5.41 20z\"/>\n",
              "  </svg>\n",
              "      </button>\n",
              "      \n",
              "  <style>\n",
              "    .colab-df-container {\n",
              "      display:flex;\n",
              "      flex-wrap:wrap;\n",
              "      gap: 12px;\n",
              "    }\n",
              "\n",
              "    .colab-df-convert {\n",
              "      background-color: #E8F0FE;\n",
              "      border: none;\n",
              "      border-radius: 50%;\n",
              "      cursor: pointer;\n",
              "      display: none;\n",
              "      fill: #1967D2;\n",
              "      height: 32px;\n",
              "      padding: 0 0 0 0;\n",
              "      width: 32px;\n",
              "    }\n",
              "\n",
              "    .colab-df-convert:hover {\n",
              "      background-color: #E2EBFA;\n",
              "      box-shadow: 0px 1px 2px rgba(60, 64, 67, 0.3), 0px 1px 3px 1px rgba(60, 64, 67, 0.15);\n",
              "      fill: #174EA6;\n",
              "    }\n",
              "\n",
              "    [theme=dark] .colab-df-convert {\n",
              "      background-color: #3B4455;\n",
              "      fill: #D2E3FC;\n",
              "    }\n",
              "\n",
              "    [theme=dark] .colab-df-convert:hover {\n",
              "      background-color: #434B5C;\n",
              "      box-shadow: 0px 1px 3px 1px rgba(0, 0, 0, 0.15);\n",
              "      filter: drop-shadow(0px 1px 2px rgba(0, 0, 0, 0.3));\n",
              "      fill: #FFFFFF;\n",
              "    }\n",
              "  </style>\n",
              "\n",
              "      <script>\n",
              "        const buttonEl =\n",
              "          document.querySelector('#df-f39d94ee-5190-47d1-86ea-c176aa2a3a7d button.colab-df-convert');\n",
              "        buttonEl.style.display =\n",
              "          google.colab.kernel.accessAllowed ? 'block' : 'none';\n",
              "\n",
              "        async function convertToInteractive(key) {\n",
              "          const element = document.querySelector('#df-f39d94ee-5190-47d1-86ea-c176aa2a3a7d');\n",
              "          const dataTable =\n",
              "            await google.colab.kernel.invokeFunction('convertToInteractive',\n",
              "                                                     [key], {});\n",
              "          if (!dataTable) return;\n",
              "\n",
              "          const docLinkHtml = 'Like what you see? Visit the ' +\n",
              "            '<a target=\"_blank\" href=https://colab.research.google.com/notebooks/data_table.ipynb>data table notebook</a>'\n",
              "            + ' to learn more about interactive tables.';\n",
              "          element.innerHTML = '';\n",
              "          dataTable['output_type'] = 'display_data';\n",
              "          await google.colab.output.renderOutput(dataTable, element);\n",
              "          const docLink = document.createElement('div');\n",
              "          docLink.innerHTML = docLinkHtml;\n",
              "          element.appendChild(docLink);\n",
              "        }\n",
              "      </script>\n",
              "    </div>\n",
              "  </div>\n",
              "  "
            ]
          },
          "metadata": {},
          "execution_count": 37
        }
      ]
    },
    {
      "cell_type": "code",
      "source": [
        "model = sm.Logit(y,xc).fit()\n",
        "print(model.summary())"
      ],
      "metadata": {
        "execution": {
          "iopub.status.busy": "2023-06-07T00:26:26.935116Z",
          "iopub.execute_input": "2023-06-07T00:26:26.935454Z",
          "iopub.status.idle": "2023-06-07T00:26:27.026777Z",
          "shell.execute_reply.started": "2023-06-07T00:26:26.935420Z",
          "shell.execute_reply": "2023-06-07T00:26:27.025212Z"
        },
        "trusted": true,
        "colab": {
          "base_uri": "https://localhost:8080/"
        },
        "id": "dPCo1I-OWTte",
        "outputId": "e8e50f1f-a289-4136-85da-b9d3645d060c"
      },
      "execution_count": null,
      "outputs": [
        {
          "output_type": "stream",
          "name": "stdout",
          "text": [
            "Optimization terminated successfully.\n",
            "         Current function value: 0.247077\n",
            "         Iterations 8\n",
            "                           Logit Regression Results                           \n",
            "==============================================================================\n",
            "Dep. Variable:                is_safe   No. Observations:                 7996\n",
            "Model:                          Logit   Df Residuals:                     7975\n",
            "Method:                           MLE   Df Model:                           20\n",
            "Date:                Wed, 07 Jun 2023   Pseudo R-squ.:                  0.3038\n",
            "Time:                        01:08:42   Log-Likelihood:                -1975.6\n",
            "converged:                       True   LL-Null:                       -2837.9\n",
            "Covariance Type:            nonrobust   LLR p-value:                     0.000\n",
            "===============================================================================\n",
            "                  coef    std err          z      P>|z|      [0.025      0.975]\n",
            "-------------------------------------------------------------------------------\n",
            "const           0.6604      0.234      2.820      0.005       0.201       1.119\n",
            "aluminium       0.7148      0.032     22.116      0.000       0.651       0.778\n",
            "ammonia        -0.0247      0.005     -5.066      0.000      -0.034      -0.015\n",
            "arsenic        -3.0461      0.309     -9.862      0.000      -3.651      -2.441\n",
            "barium          0.1209      0.040      3.058      0.002       0.043       0.198\n",
            "cadmium       -20.6412      1.783    -11.575      0.000     -24.136     -17.146\n",
            "chloramine      0.1787      0.020      8.787      0.000       0.139       0.219\n",
            "chromium        1.2264      0.179      6.841      0.000       0.875       1.578\n",
            "copper         -0.3775      0.071     -5.354      0.000      -0.516      -0.239\n",
            "flouride        0.1291      0.097      1.329      0.184      -0.061       0.320\n",
            "bacteria        0.7722      0.214      3.612      0.000       0.353       1.191\n",
            "viruses        -1.2554      0.183     -6.858      0.000      -1.614      -0.897\n",
            "lead           -1.6046      0.746     -2.152      0.031      -3.066      -0.143\n",
            "nitrates       -0.0502      0.008     -6.589      0.000      -0.065      -0.035\n",
            "nitrites       -0.3124      0.098     -3.181      0.001      -0.505      -0.120\n",
            "mercury       -36.2361     13.949     -2.598      0.009     -63.576      -8.896\n",
            "perchlorate    -0.0258      0.003     -8.452      0.000      -0.032      -0.020\n",
            "radium         -0.0558      0.020     -2.833      0.005      -0.094      -0.017\n",
            "selenium       -4.8386      1.469     -3.293      0.001      -7.718      -1.959\n",
            "silver         -1.3197      0.345     -3.830      0.000      -1.995      -0.644\n",
            "uranium       -12.9255      1.605     -8.053      0.000     -16.071      -9.780\n",
            "===============================================================================\n"
          ]
        }
      ]
    },
    {
      "cell_type": "code",
      "source": [
        "# train test split\n",
        "\n",
        "xtrain,xtest,ytrain,ytest=train_test_split(x,y,test_size=0.30,random_state=42)"
      ],
      "metadata": {
        "execution": {
          "iopub.status.busy": "2023-06-07T00:35:27.243767Z",
          "iopub.execute_input": "2023-06-07T00:35:27.244223Z",
          "iopub.status.idle": "2023-06-07T00:35:27.252325Z",
          "shell.execute_reply.started": "2023-06-07T00:35:27.244183Z",
          "shell.execute_reply": "2023-06-07T00:35:27.251036Z"
        },
        "trusted": true,
        "id": "dxjkjOCyWTte"
      },
      "execution_count": null,
      "outputs": []
    },
    {
      "cell_type": "markdown",
      "source": [
        "# Model Building"
      ],
      "metadata": {
        "id": "3VLD17lXWTte"
      }
    },
    {
      "cell_type": "code",
      "source": [
        "lr = LogisticRegression()\n",
        "dt = DecisionTreeClassifier()\n",
        "rf = RandomForestClassifier()\n",
        "knn = KNeighborsClassifier()\n",
        "gnb = GaussianNB()\n",
        "\n",
        "model_list = [lr,dt,rf,knn,gnb]\n",
        "\n",
        "train_acc = []\n",
        "test_acc = []\n",
        "\n",
        "for i in model_list:\n",
        "    i_model = i.fit(xtrain,ytrain)\n",
        "    ytrain_pred = i_model.predict(xtrain)\n",
        "    ytest_pred = i_model.predict(xtest)\n",
        "    train_acc.append(accuracy_score(ytrain,ytrain_pred))\n",
        "    test_acc.append(accuracy_score(ytest,ytest_pred))"
      ],
      "metadata": {
        "execution": {
          "iopub.status.busy": "2023-06-07T00:43:52.154177Z",
          "iopub.execute_input": "2023-06-07T00:43:52.154955Z",
          "iopub.status.idle": "2023-06-07T00:43:54.800377Z",
          "shell.execute_reply.started": "2023-06-07T00:43:52.154904Z",
          "shell.execute_reply": "2023-06-07T00:43:54.799109Z"
        },
        "trusted": true,
        "colab": {
          "base_uri": "https://localhost:8080/"
        },
        "id": "5QEcdZSUWTtg",
        "outputId": "2b7719a1-9240-4d45-a6fc-a2d1a7b5f6dd"
      },
      "execution_count": null,
      "outputs": [
        {
          "output_type": "stream",
          "name": "stderr",
          "text": [
            "/usr/local/lib/python3.10/dist-packages/sklearn/linear_model/_logistic.py:458: ConvergenceWarning: lbfgs failed to converge (status=1):\n",
            "STOP: TOTAL NO. of ITERATIONS REACHED LIMIT.\n",
            "\n",
            "Increase the number of iterations (max_iter) or scale the data as shown in:\n",
            "    https://scikit-learn.org/stable/modules/preprocessing.html\n",
            "Please also refer to the documentation for alternative solver options:\n",
            "    https://scikit-learn.org/stable/modules/linear_model.html#logistic-regression\n",
            "  n_iter_i = _check_optimize_result(\n"
          ]
        }
      ]
    },
    {
      "cell_type": "code",
      "source": [
        "train_acc"
      ],
      "metadata": {
        "execution": {
          "iopub.status.busy": "2023-06-07T00:43:54.802345Z",
          "iopub.execute_input": "2023-06-07T00:43:54.802764Z",
          "iopub.status.idle": "2023-06-07T00:43:54.813208Z",
          "shell.execute_reply.started": "2023-06-07T00:43:54.802717Z",
          "shell.execute_reply": "2023-06-07T00:43:54.811676Z"
        },
        "trusted": true,
        "colab": {
          "base_uri": "https://localhost:8080/"
        },
        "id": "kQnY7aHVWTtg",
        "outputId": "e213665d-dab3-4663-d7bc-c40a84bbef84"
      },
      "execution_count": null,
      "outputs": [
        {
          "output_type": "execute_result",
          "data": {
            "text/plain": [
              "[0.9044130784348758, 1.0, 1.0, 0.9133464355904949, 0.8513489369304985]"
            ]
          },
          "metadata": {},
          "execution_count": 41
        }
      ]
    },
    {
      "cell_type": "code",
      "source": [
        "test_acc"
      ],
      "metadata": {
        "execution": {
          "iopub.status.busy": "2023-06-07T00:35:51.578532Z",
          "iopub.execute_input": "2023-06-07T00:35:51.579208Z",
          "iopub.status.idle": "2023-06-07T00:35:51.586211Z",
          "shell.execute_reply.started": "2023-06-07T00:35:51.579167Z",
          "shell.execute_reply": "2023-06-07T00:35:51.584881Z"
        },
        "trusted": true,
        "colab": {
          "base_uri": "https://localhost:8080/"
        },
        "id": "fHLG8C6YWTtg",
        "outputId": "13e98dd5-3fb5-41b2-b039-6457392feab7"
      },
      "execution_count": null,
      "outputs": [
        {
          "output_type": "execute_result",
          "data": {
            "text/plain": [
              "[0.8928720300125053,\n",
              " 0.9499791579824927,\n",
              " 0.9541475614839516,\n",
              " 0.862025844101709,\n",
              " 0.8470195914964569]"
            ]
          },
          "metadata": {},
          "execution_count": 42
        }
      ]
    },
    {
      "cell_type": "markdown",
      "source": [
        "# Confusion Matrix"
      ],
      "metadata": {
        "id": "KPWttlmuWTtg"
      }
    },
    {
      "cell_type": "markdown",
      "source": [
        "**Train data**"
      ],
      "metadata": {
        "id": "EPzDNELYWTtg"
      }
    },
    {
      "cell_type": "code",
      "source": [
        "lr = LogisticRegression()\n",
        "dt = DecisionTreeClassifier()\n",
        "rf = RandomForestClassifier()\n",
        "knn = KNeighborsClassifier()\n",
        "gnb = GaussianNB()\n",
        "\n",
        "model_list = [lr,dt,rf,knn,gnb]\n",
        "\n",
        "\n",
        "r=3\n",
        "c=2\n",
        "it=1\n",
        "for i in model_list:\n",
        "    i_model = i.fit(xtrain,ytrain)\n",
        "    ytrain_pred = i_model.predict(xtrain)\n",
        "    ytest_pred = i_model.predict(xtest)\n",
        "    plt.subplot(r,c,it)\n",
        "    sns.heatmap(confusion_matrix(ytrain,ytrain_pred),annot=True,cmap='Blues')\n",
        "    plt.title(i)\n",
        "    it+=1\n",
        "plt.tight_layout()\n",
        "plt.show()"
      ],
      "metadata": {
        "execution": {
          "iopub.status.busy": "2023-06-07T00:26:29.721190Z",
          "iopub.execute_input": "2023-06-07T00:26:29.721517Z",
          "iopub.status.idle": "2023-06-07T00:26:33.406486Z",
          "shell.execute_reply.started": "2023-06-07T00:26:29.721479Z",
          "shell.execute_reply": "2023-06-07T00:26:33.405443Z"
        },
        "trusted": true,
        "colab": {
          "base_uri": "https://localhost:8080/",
          "height": 623
        },
        "id": "tOestIdEWTth",
        "outputId": "0a6bfc03-57bc-452e-e9a7-7458298fc917"
      },
      "execution_count": null,
      "outputs": [
        {
          "output_type": "stream",
          "name": "stderr",
          "text": [
            "/usr/local/lib/python3.10/dist-packages/sklearn/linear_model/_logistic.py:458: ConvergenceWarning: lbfgs failed to converge (status=1):\n",
            "STOP: TOTAL NO. of ITERATIONS REACHED LIMIT.\n",
            "\n",
            "Increase the number of iterations (max_iter) or scale the data as shown in:\n",
            "    https://scikit-learn.org/stable/modules/preprocessing.html\n",
            "Please also refer to the documentation for alternative solver options:\n",
            "    https://scikit-learn.org/stable/modules/linear_model.html#logistic-regression\n",
            "  n_iter_i = _check_optimize_result(\n"
          ]
        },
        {
          "output_type": "display_data",
          "data": {
            "text/plain": [
              "<Figure size 640x480 with 10 Axes>"
            ],
            "image/png": "[encoded data removed]"
          },
          "metadata": {}
        }
      ]
    },
    {
      "cell_type": "markdown",
      "source": [
        "**Test data**"
      ],
      "metadata": {
        "id": "t17-SIXQWTth"
      }
    },
    {
      "cell_type": "code",
      "source": [
        "lr = LogisticRegression()\n",
        "dt = DecisionTreeClassifier()\n",
        "rf = RandomForestClassifier()\n",
        "knn = KNeighborsClassifier()\n",
        "gnb = GaussianNB()\n",
        "\n",
        "model_list = [lr,dt,rf,knn,gnb]\n",
        "\n",
        "\n",
        "r=3\n",
        "c=2\n",
        "it=1\n",
        "for i in model_list:\n",
        "    i_model = i.fit(xtrain,ytrain)\n",
        "    ytrain_pred = i_model.predict(xtrain)\n",
        "    ytest_pred = i_model.predict(xtest)\n",
        "    plt.subplot(r,c,it)\n",
        "    sns.heatmap(confusion_matrix(ytest,ytest_pred),annot=True,cmap='Blues')\n",
        "    plt.title(i)\n",
        "    it+=1\n",
        "plt.tight_layout()\n",
        "plt.show()"
      ],
      "metadata": {
        "execution": {
          "iopub.status.busy": "2023-06-07T00:26:33.407958Z",
          "iopub.execute_input": "2023-06-07T00:26:33.408459Z",
          "iopub.status.idle": "2023-06-07T00:26:37.044174Z",
          "shell.execute_reply.started": "2023-06-07T00:26:33.408418Z",
          "shell.execute_reply": "2023-06-07T00:26:37.043022Z"
        },
        "trusted": true,
        "colab": {
          "base_uri": "https://localhost:8080/",
          "height": 623
        },
        "id": "CvgSnGtqWTth",
        "outputId": "3c827a7b-494d-4719-f4bc-e8bac88e91aa"
      },
      "execution_count": null,
      "outputs": [
        {
          "output_type": "stream",
          "name": "stderr",
          "text": [
            "/usr/local/lib/python3.10/dist-packages/sklearn/linear_model/_logistic.py:458: ConvergenceWarning: lbfgs failed to converge (status=1):\n",
            "STOP: TOTAL NO. of ITERATIONS REACHED LIMIT.\n",
            "\n",
            "Increase the number of iterations (max_iter) or scale the data as shown in:\n",
            "    https://scikit-learn.org/stable/modules/preprocessing.html\n",
            "Please also refer to the documentation for alternative solver options:\n",
            "    https://scikit-learn.org/stable/modules/linear_model.html#logistic-regression\n",
            "  n_iter_i = _check_optimize_result(\n"
          ]
        },
        {
          "output_type": "display_data",
          "data": {
            "text/plain": [
              "<Figure size 640x480 with 10 Axes>"
            ],
            "image/png": "[encoded data removed]"
          },
          "metadata": {}
        }
      ]
    },
    {
      "cell_type": "markdown",
      "source": [
        "# Comparing the accuracies of train and test data"
      ],
      "metadata": {
        "id": "corPTk94WTth"
      }
    },
    {
      "cell_type": "code",
      "source": [
        "lr = LogisticRegression()\n",
        "dt = DecisionTreeClassifier()\n",
        "rf = RandomForestClassifier()\n",
        "knn = KNeighborsClassifier()\n",
        "gnb = GaussianNB()\n",
        "\n",
        "\n",
        "model_dict = {'Model':model_list,'Train Score':train_acc,'Test Score':test_acc}\n",
        "model_dict"
      ],
      "metadata": {
        "execution": {
          "iopub.status.busy": "2023-06-07T00:48:22.504961Z",
          "iopub.execute_input": "2023-06-07T00:48:22.505988Z",
          "iopub.status.idle": "2023-06-07T00:48:22.515468Z",
          "shell.execute_reply.started": "2023-06-07T00:48:22.505927Z",
          "shell.execute_reply": "2023-06-07T00:48:22.514405Z"
        },
        "trusted": true,
        "colab": {
          "base_uri": "https://localhost:8080/"
        },
        "id": "twkNnURmWTti",
        "outputId": "d173bb82-dd62-4727-b3c1-bb4f12fc53c8"
      },
      "execution_count": null,
      "outputs": [
        {
          "output_type": "execute_result",
          "data": {
            "text/plain": [
              "{'Model': [LogisticRegression(),\n",
              "  DecisionTreeClassifier(),\n",
              "  RandomForestClassifier(),\n",
              "  KNeighborsClassifier(),\n",
              "  GaussianNB()],\n",
              " 'Train Score': [0.9044130784348758,\n",
              "  1.0,\n",
              "  1.0,\n",
              "  0.9133464355904949,\n",
              "  0.8513489369304985],\n",
              " 'Test Score': [0.8928720300125053,\n",
              "  0.9491454772822009,\n",
              "  0.952897040433514,\n",
              "  0.862025844101709,\n",
              "  0.8470195914964569]}"
            ]
          },
          "metadata": {},
          "execution_count": 47
        }
      ]
    },
    {
      "cell_type": "code",
      "source": [
        "model_summary = pd.DataFrame({'Model':model_list,'Train Score':train_acc,'Test Score':test_acc})\n",
        "model_summary"
      ],
      "metadata": {
        "execution": {
          "iopub.status.busy": "2023-06-07T00:36:19.720029Z",
          "iopub.execute_input": "2023-06-07T00:36:19.720405Z",
          "iopub.status.idle": "2023-06-07T00:36:19.773311Z",
          "shell.execute_reply.started": "2023-06-07T00:36:19.720370Z",
          "shell.execute_reply": "2023-06-07T00:36:19.772221Z"
        },
        "trusted": true,
        "colab": {
          "base_uri": "https://localhost:8080/",
          "height": 204
        },
        "id": "ZXkkFrR2WTti",
        "outputId": "3778b4af-e7a4-4912-dceb-2afaea6a9501"
      },
      "execution_count": null,
      "outputs": [
        {
          "output_type": "execute_result",
          "data": {
            "text/plain": [
              "                                               Model  Train Score  Test Score\n",
              "0                               LogisticRegression()     0.904413    0.892872\n",
              "1                           DecisionTreeClassifier()     1.000000    0.949145\n",
              "2  (DecisionTreeClassifier(max_features='sqrt', r...     1.000000    0.952897\n",
              "3                             KNeighborsClassifier()     0.913346    0.862026\n",
              "4                                       GaussianNB()     0.851349    0.847020"
            ],
            "text/html": [
              "\n",
              "  <div id=\"df-f1ee6648-10d4-4795-b89c-ef099b0890c6\">\n",
              "    <div class=\"colab-df-container\">\n",
              "      <div>\n",
              "<style scoped>\n",
              "    .dataframe tbody tr th:only-of-type {\n",
              "        vertical-align: middle;\n",
              "    }\n",
              "\n",
              "    .dataframe tbody tr th {\n",
              "        vertical-align: top;\n",
              "    }\n",
              "\n",
              "    .dataframe thead th {\n",
              "        text-align: right;\n",
              "    }\n",
              "</style>\n",
              "<table border=\"1\" class=\"dataframe\">\n",
              "  <thead>\n",
              "    <tr style=\"text-align: right;\">\n",
              "      <th></th>\n",
              "      <th>Model</th>\n",
              "      <th>Train Score</th>\n",
              "      <th>Test Score</th>\n",
              "    </tr>\n",
              "  </thead>\n",
              "  <tbody>\n",
              "    <tr>\n",
              "      <th>0</th>\n",
              "      <td>LogisticRegression()</td>\n",
              "      <td>0.904413</td>\n",
              "      <td>0.892872</td>\n",
              "    </tr>\n",
              "    <tr>\n",
              "      <th>1</th>\n",
              "      <td>DecisionTreeClassifier()</td>\n",
              "      <td>1.000000</td>\n",
              "      <td>0.949145</td>\n",
              "    </tr>\n",
              "    <tr>\n",
              "      <th>2</th>\n",
              "      <td>(DecisionTreeClassifier(max_features='sqrt', r...</td>\n",
              "      <td>1.000000</td>\n",
              "      <td>0.952897</td>\n",
              "    </tr>\n",
              "    <tr>\n",
              "      <th>3</th>\n",
              "      <td>KNeighborsClassifier()</td>\n",
              "      <td>0.913346</td>\n",
              "      <td>0.862026</td>\n",
              "    </tr>\n",
              "    <tr>\n",
              "      <th>4</th>\n",
              "      <td>GaussianNB()</td>\n",
              "      <td>0.851349</td>\n",
              "      <td>0.847020</td>\n",
              "    </tr>\n",
              "  </tbody>\n",
              "</table>\n",
              "</div>\n",
              "      <button class=\"colab-df-convert\" onclick=\"convertToInteractive('df-f1ee6648-10d4-4795-b89c-ef099b0890c6')\"\n",
              "              title=\"Convert this dataframe to an interactive table.\"\n",
              "              style=\"display:none;\">\n",
              "        \n",
              "  <svg xmlns=\"http://www.w3.org/2000/svg\" height=\"24px\"viewBox=\"0 0 24 24\"\n",
              "       width=\"24px\">\n",
              "    <path d=\"M0 0h24v24H0V0z\" fill=\"none\"/>\n",
              "    <path d=\"M18.56 5.44l.94 2.06.94-2.06 2.06-.94-2.06-.94-.94-2.06-.94 2.06-2.06.94zm-11 1L8.5 8.5l.94-2.06 2.06-.94-2.06-.94L8.5 2.5l-.94 2.06-2.06.94zm10 10l.94 2.06.94-2.06 2.06-.94-2.06-.94-.94-2.06-.94 2.06-2.06.94z\"/><path d=\"M17.41 7.96l-1.37-1.37c-.4-.4-.92-.59-1.43-.59-.52 0-1.04.2-1.43.59L10.3 9.45l-7.72 7.72c-.78.78-.78 2.05 0 2.83L4 21.41c.39.39.9.59 1.41.59.51 0 1.02-.2 1.41-.59l7.78-7.78 2.81-2.81c.8-.78.8-2.07 0-2.86zM5.41 20L4 18.59l7.72-7.72 1.47 1.35L5.41 20z\"/>\n",
              "  </svg>\n",
              "      </button>\n",
              "      \n",
              "  <style>\n",
              "    .colab-df-container {\n",
              "      display:flex;\n",
              "      flex-wrap:wrap;\n",
              "      gap: 12px;\n",
              "    }\n",
              "\n",
              "    .colab-df-convert {\n",
              "      background-color: #E8F0FE;\n",
              "      border: none;\n",
              "      border-radius: 50%;\n",
              "      cursor: pointer;\n",
              "      display: none;\n",
              "      fill: #1967D2;\n",
              "      height: 32px;\n",
              "      padding: 0 0 0 0;\n",
              "      width: 32px;\n",
              "    }\n",
              "\n",
              "    .colab-df-convert:hover {\n",
              "      background-color: #E2EBFA;\n",
              "      box-shadow: 0px 1px 2px rgba(60, 64, 67, 0.3), 0px 1px 3px 1px rgba(60, 64, 67, 0.15);\n",
              "      fill: #174EA6;\n",
              "    }\n",
              "\n",
              "    [theme=dark] .colab-df-convert {\n",
              "      background-color: #3B4455;\n",
              "      fill: #D2E3FC;\n",
              "    }\n",
              "\n",
              "    [theme=dark] .colab-df-convert:hover {\n",
              "      background-color: #434B5C;\n",
              "      box-shadow: 0px 1px 3px 1px rgba(0, 0, 0, 0.15);\n",
              "      filter: drop-shadow(0px 1px 2px rgba(0, 0, 0, 0.3));\n",
              "      fill: #FFFFFF;\n",
              "    }\n",
              "  </style>\n",
              "\n",
              "      <script>\n",
              "        const buttonEl =\n",
              "          document.querySelector('#df-f1ee6648-10d4-4795-b89c-ef099b0890c6 button.colab-df-convert');\n",
              "        buttonEl.style.display =\n",
              "          google.colab.kernel.accessAllowed ? 'block' : 'none';\n",
              "\n",
              "        async function convertToInteractive(key) {\n",
              "          const element = document.querySelector('#df-f1ee6648-10d4-4795-b89c-ef099b0890c6');\n",
              "          const dataTable =\n",
              "            await google.colab.kernel.invokeFunction('convertToInteractive',\n",
              "                                                     [key], {});\n",
              "          if (!dataTable) return;\n",
              "\n",
              "          const docLinkHtml = 'Like what you see? Visit the ' +\n",
              "            '<a target=\"_blank\" href=https://colab.research.google.com/notebooks/data_table.ipynb>data table notebook</a>'\n",
              "            + ' to learn more about interactive tables.';\n",
              "          element.innerHTML = '';\n",
              "          dataTable['output_type'] = 'display_data';\n",
              "          await google.colab.output.renderOutput(dataTable, element);\n",
              "          const docLink = document.createElement('div');\n",
              "          docLink.innerHTML = docLinkHtml;\n",
              "          element.appendChild(docLink);\n",
              "        }\n",
              "      </script>\n",
              "    </div>\n",
              "  </div>\n",
              "  "
            ]
          },
          "metadata": {},
          "execution_count": 48
        }
      ]
    },
    {
      "cell_type": "code",
      "source": [
        "import matplotlib.pyplot as plt\n",
        "import numpy as np\n",
        "\n",
        "model_names = ['Logistic Regression', 'Decision Tree', 'Random Forest', 'K-Neighbors', 'GaussianNB']\n",
        "\n",
        "train_scores = train_acc\n",
        "test_scores = test_acc\n",
        "\n",
        "x = np.arange(len(model_names))  # the label locations\n",
        "width = 0.35  # the width of the bars\n",
        "\n",
        "fig, ax = plt.subplots()\n",
        "\n",
        "rects1 = ax.bar(x - width/2, train_scores, width, label='Train')\n",
        "rects2 = ax.bar(x + width/2, test_scores, width, label='Test')\n",
        "\n",
        "# Add some text for labels, title and custom x-axis tick labels, etc.\n",
        "ax.set_ylabel('Scores')\n",
        "ax.set_title('Scores by Model and Dataset')\n",
        "ax.set_xticks(x)\n",
        "ax.set_xticklabels(model_names)\n",
        "ax.legend()\n",
        "\n",
        "fig.tight_layout()\n",
        "\n",
        "plt.show()\n"
      ],
      "metadata": {
        "execution": {
          "iopub.status.busy": "2023-06-07T00:51:16.495779Z",
          "iopub.execute_input": "2023-06-07T00:51:16.496644Z",
          "iopub.status.idle": "2023-06-07T00:51:16.790202Z",
          "shell.execute_reply.started": "2023-06-07T00:51:16.496585Z",
          "shell.execute_reply": "2023-06-07T00:51:16.789038Z"
        },
        "trusted": true,
        "colab": {
          "base_uri": "https://localhost:8080/",
          "height": 487
        },
        "id": "z24UoyLjWTti",
        "outputId": "3ef86dcc-55e6-481c-fcf0-997b1ea7fec6"
      },
      "execution_count": null,
      "outputs": [
        {
          "output_type": "display_data",
          "data": {
            "text/plain": [
              "<Figure size 640x480 with 1 Axes>"
            ],
            "image/png": "[encoded data removed]"
          },
          "metadata": {}
        }
      ]
    },
    {
      "cell_type": "markdown",
      "source": [
        "# Finding the best parameters"
      ],
      "metadata": {
        "id": "-7mRDrDbWTtj"
      }
    },
    {
      "cell_type": "markdown",
      "source": [
        "**Decision Tree**"
      ],
      "metadata": {
        "id": "HnGL2DMoWTtj"
      }
    },
    {
      "cell_type": "code",
      "source": [
        "dt = DecisionTreeClassifier()\n",
        "params=[{'criterion':['gini','entropy'],\n",
        "             'max_depth':range(2,5),\n",
        "             'min_samples_leaf':range(2,7),\n",
        "             }]\n",
        "\n",
        "grd = GridSearchCV(estimator=dt,param_grid=params,cv=3)\n",
        "\n",
        "grd_model = grd.fit(xtrain,ytrain)\n",
        "\n",
        "grd_model.best_params_"
      ],
      "metadata": {
        "execution": {
          "iopub.status.busy": "2023-06-07T00:26:37.126552Z",
          "iopub.execute_input": "2023-06-07T00:26:37.126860Z",
          "iopub.status.idle": "2023-06-07T00:26:39.058413Z",
          "shell.execute_reply.started": "2023-06-07T00:26:37.126831Z",
          "shell.execute_reply": "2023-06-07T00:26:39.057024Z"
        },
        "trusted": true,
        "colab": {
          "base_uri": "https://localhost:8080/"
        },
        "id": "ZUJRoIOuWTtj",
        "outputId": "bc437448-11ab-4063-f7f3-ff6271140114"
      },
      "execution_count": null,
      "outputs": [
        {
          "output_type": "execute_result",
          "data": {
            "text/plain": [
              "{'criterion': 'gini', 'max_depth': 4, 'min_samples_leaf': 4}"
            ]
          },
          "metadata": {},
          "execution_count": 50
        }
      ]
    },
    {
      "cell_type": "code",
      "source": [
        "dt = DecisionTreeClassifier(criterion=grd_model.best_params_.get('criterion'),\n",
        "                           max_depth=grd_model.best_params_.get('max_depth'),\n",
        "                           min_samples_leaf=grd_model.best_params_.get('max_depth'))\n",
        "\n",
        "dt_model = dt.fit(xtrain,ytrain)\n",
        "\n",
        "ytrain_pred = dt_model.predict(xtrain)\n",
        "ytest_pred = dt_model.predict(xtest)"
      ],
      "metadata": {
        "execution": {
          "iopub.status.busy": "2023-06-07T00:36:56.915440Z",
          "iopub.execute_input": "2023-06-07T00:36:56.916239Z",
          "iopub.status.idle": "2023-06-07T00:36:57.063784Z",
          "shell.execute_reply.started": "2023-06-07T00:36:56.916187Z",
          "shell.execute_reply": "2023-06-07T00:36:57.062186Z"
        },
        "trusted": true,
        "id": "eFt2bqP9WTtk"
      },
      "execution_count": null,
      "outputs": []
    },
    {
      "cell_type": "code",
      "source": [
        "print(\"The accuracy score of regularized Decision tree is: \",accuracy_score(ytrain,ytrain_pred))\n",
        "print(\"The accuracy score of regularized Decision tree is: \",accuracy_score(ytest,ytest_pred))"
      ],
      "metadata": {
        "execution": {
          "iopub.status.busy": "2023-06-07T00:26:39.105265Z",
          "iopub.execute_input": "2023-06-07T00:26:39.106035Z",
          "iopub.status.idle": "2023-06-07T00:26:39.114132Z",
          "shell.execute_reply.started": "2023-06-07T00:26:39.105986Z",
          "shell.execute_reply": "2023-06-07T00:26:39.113002Z"
        },
        "trusted": true,
        "colab": {
          "base_uri": "https://localhost:8080/"
        },
        "id": "ccSixIEjWTtk",
        "outputId": "2f1a54a0-2ac7-4b20-b46c-54c2365f13a9"
      },
      "execution_count": null,
      "outputs": [
        {
          "output_type": "stream",
          "name": "stdout",
          "text": [
            "The accuracy score of regularized Decision tree is:  0.951759871359657\n",
            "The accuracy score of regularized Decision tree is:  0.9433097123801584\n"
          ]
        }
      ]
    },
    {
      "cell_type": "markdown",
      "source": [
        "**Random Forest**"
      ],
      "metadata": {
        "id": "HwyrJmHkWTtl"
      }
    },
    {
      "cell_type": "code",
      "source": [
        "rf = RandomForestClassifier()\n",
        "params=[{'n_estimators':[100,150,200],\n",
        "       'criterion':['gini','entropy'],\n",
        "             'max_depth':range(2,5),\n",
        "             'min_samples_leaf':range(2,7),\n",
        "             }]\n",
        "\n",
        "grd = GridSearchCV(estimator=rf,param_grid=params,cv=3)\n",
        "\n",
        "grd_model = grd.fit(xtrain,ytrain)\n",
        "\n",
        "grd_model.best_params_"
      ],
      "metadata": {
        "execution": {
          "iopub.status.busy": "2023-06-07T00:26:39.115703Z",
          "iopub.execute_input": "2023-06-07T00:26:39.117296Z",
          "iopub.status.idle": "2023-06-07T00:29:26.418837Z",
          "shell.execute_reply.started": "2023-06-07T00:26:39.117249Z",
          "shell.execute_reply": "2023-06-07T00:29:26.417495Z"
        },
        "trusted": true,
        "colab": {
          "base_uri": "https://localhost:8080/"
        },
        "id": "Ad8_3hcKWTtl",
        "outputId": "f3bb489d-86f0-4a7e-d24f-813d6d7cf45f"
      },
      "execution_count": null,
      "outputs": [
        {
          "output_type": "execute_result",
          "data": {
            "text/plain": [
              "{'criterion': 'gini',\n",
              " 'max_depth': 4,\n",
              " 'min_samples_leaf': 3,\n",
              " 'n_estimators': 150}"
            ]
          },
          "metadata": {},
          "execution_count": 53
        }
      ]
    },
    {
      "cell_type": "code",
      "source": [
        "rf = RandomForestClassifier(criterion=grd_model.best_params_.get('criterion'),\n",
        "                           max_depth=grd_model.best_params_.get('max_depth'),\n",
        "                           min_samples_leaf=grd_model.best_params_.get('max_depth'),\n",
        "                           n_estimators=grd_model.best_params_.get('n_estimators'))\n",
        "\n",
        "rf_model = rf.fit(xtrain,ytrain)\n",
        "\n",
        "ytrain_pred = rf_model.predict(xtrain)\n",
        "ytest_pred = rf_model.predict(xtest)"
      ],
      "metadata": {
        "execution": {
          "iopub.status.busy": "2023-06-07T00:29:26.420665Z",
          "iopub.execute_input": "2023-06-07T00:29:26.421418Z",
          "iopub.status.idle": "2023-06-07T00:29:27.468159Z",
          "shell.execute_reply.started": "2023-06-07T00:29:26.421370Z",
          "shell.execute_reply": "2023-06-07T00:29:27.467177Z"
        },
        "trusted": true,
        "id": "eeNR5JaRWTtm"
      },
      "execution_count": null,
      "outputs": []
    },
    {
      "cell_type": "code",
      "source": [
        "print(\"The accuracy score of regularized Random Forest is: \",accuracy_score(ytrain,ytrain_pred))\n",
        "print(\"The accuracy score of regularized Random Forest is: \",accuracy_score(ytest,ytest_pred))"
      ],
      "metadata": {
        "execution": {
          "iopub.status.busy": "2023-06-07T00:29:27.469792Z",
          "iopub.execute_input": "2023-06-07T00:29:27.470172Z",
          "iopub.status.idle": "2023-06-07T00:29:27.478446Z",
          "shell.execute_reply.started": "2023-06-07T00:29:27.470124Z",
          "shell.execute_reply": "2023-06-07T00:29:27.477284Z"
        },
        "trusted": true,
        "colab": {
          "base_uri": "https://localhost:8080/"
        },
        "id": "hVza5wFWWTtm",
        "outputId": "af1dbba0-71f3-4ed2-c982-fbd50d6f935c"
      },
      "execution_count": null,
      "outputs": [
        {
          "output_type": "stream",
          "name": "stdout",
          "text": [
            "The accuracy score of regularized Random Forest is:  0.9449705199213865\n",
            "The accuracy score of regularized Random Forest is:  0.924968736973739\n"
          ]
        }
      ]
    },
    {
      "cell_type": "markdown",
      "source": [
        "**KNeighbors Classifier**"
      ],
      "metadata": {
        "id": "Jl0MBS8CWTtn"
      }
    },
    {
      "cell_type": "code",
      "source": [
        "knn = KNeighborsClassifier()\n",
        "params=[{'n_neighbors':[3,5,7],\n",
        "         'metric':['euclidean','manhattan']}]\n",
        "\n",
        "grd = GridSearchCV(estimator=knn,param_grid=params,cv=3)\n",
        "\n",
        "grd_model = grd.fit(xtrain,ytrain)\n",
        "\n",
        "grd_model.best_params_"
      ],
      "metadata": {
        "execution": {
          "iopub.status.busy": "2023-06-07T00:29:27.480129Z",
          "iopub.execute_input": "2023-06-07T00:29:27.480719Z",
          "iopub.status.idle": "2023-06-07T00:29:32.103804Z",
          "shell.execute_reply.started": "2023-06-07T00:29:27.480671Z",
          "shell.execute_reply": "2023-06-07T00:29:32.103003Z"
        },
        "trusted": true,
        "colab": {
          "base_uri": "https://localhost:8080/"
        },
        "id": "22LArFmXWTtn",
        "outputId": "dcc6c7d6-4712-4498-b532-79c913b674ae"
      },
      "execution_count": null,
      "outputs": [
        {
          "output_type": "execute_result",
          "data": {
            "text/plain": [
              "{'metric': 'manhattan', 'n_neighbors': 7}"
            ]
          },
          "metadata": {},
          "execution_count": 62
        }
      ]
    },
    {
      "cell_type": "code",
      "source": [
        "knn = KNeighborsClassifier(n_neighbors=grd_model.best_params_.get('n_neighbors'),\n",
        "                          metric=grd_model.best_params_.get('metric'))\n",
        "\n",
        "knn_model = knn.fit(xtrain,ytrain)\n",
        "\n",
        "ytrain_pred = knn_model.predict(xtrain)\n",
        "ytest_pred = knn_model.predict(xtest)"
      ],
      "metadata": {
        "execution": {
          "iopub.status.busy": "2023-06-07T00:29:32.104827Z",
          "iopub.execute_input": "2023-06-07T00:29:32.105733Z",
          "iopub.status.idle": "2023-06-07T00:29:33.874027Z",
          "shell.execute_reply.started": "2023-06-07T00:29:32.105697Z",
          "shell.execute_reply": "2023-06-07T00:29:33.872724Z"
        },
        "trusted": true,
        "id": "HZyR1wwFWTtn"
      },
      "execution_count": null,
      "outputs": []
    },
    {
      "cell_type": "code",
      "source": [
        "print(\"The accuracy score of regularized KN classifier is: \",accuracy_score(ytrain,ytrain_pred))\n",
        "print(\"The accuracy score of regularized KN Classifier is: \",accuracy_score(ytest,ytest_pred))"
      ],
      "metadata": {
        "execution": {
          "iopub.status.busy": "2023-06-07T00:37:28.263993Z",
          "iopub.execute_input": "2023-06-07T00:37:28.264438Z",
          "iopub.status.idle": "2023-06-07T00:37:28.273124Z",
          "shell.execute_reply.started": "2023-06-07T00:37:28.264388Z",
          "shell.execute_reply": "2023-06-07T00:37:28.271925Z"
        },
        "trusted": true,
        "colab": {
          "base_uri": "https://localhost:8080/"
        },
        "id": "f8nkWIgbWTto",
        "outputId": "177b5f14-e4e8-4cf7-a231-73a70f8ad454"
      },
      "execution_count": null,
      "outputs": [
        {
          "output_type": "stream",
          "name": "stdout",
          "text": [
            "The accuracy score of regularized KN classifier is:  0.9103090941575844\n",
            "The accuracy score of regularized KN Classifier is:  0.8686952897040433\n"
          ]
        }
      ]
    },
    {
      "cell_type": "markdown",
      "source": [
        "# Feature Importances"
      ],
      "metadata": {
        "id": "kGyVgKw_WTto"
      }
    },
    {
      "cell_type": "code",
      "source": [
        "rf_model = rf.fit(xtrain,ytrain)\n",
        "rf_model.feature_importances_"
      ],
      "metadata": {
        "execution": {
          "iopub.status.busy": "2023-06-07T00:29:33.884776Z",
          "iopub.execute_input": "2023-06-07T00:29:33.885857Z",
          "iopub.status.idle": "2023-06-07T00:29:34.809127Z",
          "shell.execute_reply.started": "2023-06-07T00:29:33.885821Z",
          "shell.execute_reply": "2023-06-07T00:29:34.808286Z"
        },
        "trusted": true,
        "colab": {
          "base_uri": "https://localhost:8080/"
        },
        "id": "IvUmDoTEWTto",
        "outputId": "732064e5-1eee-4879-a281-489219c91d65"
      },
      "execution_count": null,
      "outputs": [
        {
          "output_type": "execute_result",
          "data": {
            "text/plain": [
              "array([0.24973179, 0.01852368, 0.12739417, 0.00984142, 0.21928603,\n",
              "       0.07316212, 0.05594412, 0.00588361, 0.00230147, 0.02206376,\n",
              "       0.02725895, 0.00416619, 0.01304353, 0.01503161, 0.00203517,\n",
              "       0.09100162, 0.01186729, 0.00273647, 0.03293047, 0.01579655])"
            ]
          },
          "metadata": {},
          "execution_count": 55
        }
      ]
    },
    {
      "cell_type": "code",
      "source": [
        "importances = pd.DataFrame(xtrain.columns,columns=['Features'])\n",
        "importances"
      ],
      "metadata": {
        "execution": {
          "iopub.status.busy": "2023-06-07T00:29:34.810311Z",
          "iopub.execute_input": "2023-06-07T00:29:34.811072Z",
          "iopub.status.idle": "2023-06-07T00:29:34.822099Z",
          "shell.execute_reply.started": "2023-06-07T00:29:34.811036Z",
          "shell.execute_reply": "2023-06-07T00:29:34.820944Z"
        },
        "trusted": true,
        "colab": {
          "base_uri": "https://localhost:8080/",
          "height": 733
        },
        "id": "xslJrfTXWTto",
        "outputId": "4300fcb5-2fc6-42f6-f24e-56f22386bbb1"
      },
      "execution_count": null,
      "outputs": [
        {
          "output_type": "execute_result",
          "data": {
            "text/plain": [
              "       Features\n",
              "0     aluminium\n",
              "1       ammonia\n",
              "2       arsenic\n",
              "3        barium\n",
              "4       cadmium\n",
              "5    chloramine\n",
              "6      chromium\n",
              "7        copper\n",
              "8      flouride\n",
              "9      bacteria\n",
              "10      viruses\n",
              "11         lead\n",
              "12     nitrates\n",
              "13     nitrites\n",
              "14      mercury\n",
              "15  perchlorate\n",
              "16       radium\n",
              "17     selenium\n",
              "18       silver\n",
              "19      uranium"
            ],
            "text/html": [
              "\n",
              "  <div id=\"df-c63344e1-5bed-4fac-be75-11fa9724af1d\">\n",
              "    <div class=\"colab-df-container\">\n",
              "      <div>\n",
              "<style scoped>\n",
              "    .dataframe tbody tr th:only-of-type {\n",
              "        vertical-align: middle;\n",
              "    }\n",
              "\n",
              "    .dataframe tbody tr th {\n",
              "        vertical-align: top;\n",
              "    }\n",
              "\n",
              "    .dataframe thead th {\n",
              "        text-align: right;\n",
              "    }\n",
              "</style>\n",
              "<table border=\"1\" class=\"dataframe\">\n",
              "  <thead>\n",
              "    <tr style=\"text-align: right;\">\n",
              "      <th></th>\n",
              "      <th>Features</th>\n",
              "    </tr>\n",
              "  </thead>\n",
              "  <tbody>\n",
              "    <tr>\n",
              "      <th>0</th>\n",
              "      <td>aluminium</td>\n",
              "    </tr>\n",
              "    <tr>\n",
              "      <th>1</th>\n",
              "      <td>ammonia</td>\n",
              "    </tr>\n",
              "    <tr>\n",
              "      <th>2</th>\n",
              "      <td>arsenic</td>\n",
              "    </tr>\n",
              "    <tr>\n",
              "      <th>3</th>\n",
              "      <td>barium</td>\n",
              "    </tr>\n",
              "    <tr>\n",
              "      <th>4</th>\n",
              "      <td>cadmium</td>\n",
              "    </tr>\n",
              "    <tr>\n",
              "      <th>5</th>\n",
              "      <td>chloramine</td>\n",
              "    </tr>\n",
              "    <tr>\n",
              "      <th>6</th>\n",
              "      <td>chromium</td>\n",
              "    </tr>\n",
              "    <tr>\n",
              "      <th>7</th>\n",
              "      <td>copper</td>\n",
              "    </tr>\n",
              "    <tr>\n",
              "      <th>8</th>\n",
              "      <td>flouride</td>\n",
              "    </tr>\n",
              "    <tr>\n",
              "      <th>9</th>\n",
              "      <td>bacteria</td>\n",
              "    </tr>\n",
              "    <tr>\n",
              "      <th>10</th>\n",
              "      <td>viruses</td>\n",
              "    </tr>\n",
              "    <tr>\n",
              "      <th>11</th>\n",
              "      <td>lead</td>\n",
              "    </tr>\n",
              "    <tr>\n",
              "      <th>12</th>\n",
              "      <td>nitrates</td>\n",
              "    </tr>\n",
              "    <tr>\n",
              "      <th>13</th>\n",
              "      <td>nitrites</td>\n",
              "    </tr>\n",
              "    <tr>\n",
              "      <th>14</th>\n",
              "      <td>mercury</td>\n",
              "    </tr>\n",
              "    <tr>\n",
              "      <th>15</th>\n",
              "      <td>perchlorate</td>\n",
              "    </tr>\n",
              "    <tr>\n",
              "      <th>16</th>\n",
              "      <td>radium</td>\n",
              "    </tr>\n",
              "    <tr>\n",
              "      <th>17</th>\n",
              "      <td>selenium</td>\n",
              "    </tr>\n",
              "    <tr>\n",
              "      <th>18</th>\n",
              "      <td>silver</td>\n",
              "    </tr>\n",
              "    <tr>\n",
              "      <th>19</th>\n",
              "      <td>uranium</td>\n",
              "    </tr>\n",
              "  </tbody>\n",
              "</table>\n",
              "</div>\n",
              "      <button class=\"colab-df-convert\" onclick=\"convertToInteractive('df-c63344e1-5bed-4fac-be75-11fa9724af1d')\"\n",
              "              title=\"Convert this dataframe to an interactive table.\"\n",
              "              style=\"display:none;\">\n",
              "        \n",
              "  <svg xmlns=\"http://www.w3.org/2000/svg\" height=\"24px\"viewBox=\"0 0 24 24\"\n",
              "       width=\"24px\">\n",
              "    <path d=\"M0 0h24v24H0V0z\" fill=\"none\"/>\n",
              "    <path d=\"M18.56 5.44l.94 2.06.94-2.06 2.06-.94-2.06-.94-.94-2.06-.94 2.06-2.06.94zm-11 1L8.5 8.5l.94-2.06 2.06-.94-2.06-.94L8.5 2.5l-.94 2.06-2.06.94zm10 10l.94 2.06.94-2.06 2.06-.94-2.06-.94-.94-2.06-.94 2.06-2.06.94z\"/><path d=\"M17.41 7.96l-1.37-1.37c-.4-.4-.92-.59-1.43-.59-.52 0-1.04.2-1.43.59L10.3 9.45l-7.72 7.72c-.78.78-.78 2.05 0 2.83L4 21.41c.39.39.9.59 1.41.59.51 0 1.02-.2 1.41-.59l7.78-7.78 2.81-2.81c.8-.78.8-2.07 0-2.86zM5.41 20L4 18.59l7.72-7.72 1.47 1.35L5.41 20z\"/>\n",
              "  </svg>\n",
              "      </button>\n",
              "      \n",
              "  <style>\n",
              "    .colab-df-container {\n",
              "      display:flex;\n",
              "      flex-wrap:wrap;\n",
              "      gap: 12px;\n",
              "    }\n",
              "\n",
              "    .colab-df-convert {\n",
              "      background-color: #E8F0FE;\n",
              "      border: none;\n",
              "      border-radius: 50%;\n",
              "      cursor: pointer;\n",
              "      display: none;\n",
              "      fill: #1967D2;\n",
              "      height: 32px;\n",
              "      padding: 0 0 0 0;\n",
              "      width: 32px;\n",
              "    }\n",
              "\n",
              "    .colab-df-convert:hover {\n",
              "      background-color: #E2EBFA;\n",
              "      box-shadow: 0px 1px 2px rgba(60, 64, 67, 0.3), 0px 1px 3px 1px rgba(60, 64, 67, 0.15);\n",
              "      fill: #174EA6;\n",
              "    }\n",
              "\n",
              "    [theme=dark] .colab-df-convert {\n",
              "      background-color: #3B4455;\n",
              "      fill: #D2E3FC;\n",
              "    }\n",
              "\n",
              "    [theme=dark] .colab-df-convert:hover {\n",
              "      background-color: #434B5C;\n",
              "      box-shadow: 0px 1px 3px 1px rgba(0, 0, 0, 0.15);\n",
              "      filter: drop-shadow(0px 1px 2px rgba(0, 0, 0, 0.3));\n",
              "      fill: #FFFFFF;\n",
              "    }\n",
              "  </style>\n",
              "\n",
              "      <script>\n",
              "        const buttonEl =\n",
              "          document.querySelector('#df-c63344e1-5bed-4fac-be75-11fa9724af1d button.colab-df-convert');\n",
              "        buttonEl.style.display =\n",
              "          google.colab.kernel.accessAllowed ? 'block' : 'none';\n",
              "\n",
              "        async function convertToInteractive(key) {\n",
              "          const element = document.querySelector('#df-c63344e1-5bed-4fac-be75-11fa9724af1d');\n",
              "          const dataTable =\n",
              "            await google.colab.kernel.invokeFunction('convertToInteractive',\n",
              "                                                     [key], {});\n",
              "          if (!dataTable) return;\n",
              "\n",
              "          const docLinkHtml = 'Like what you see? Visit the ' +\n",
              "            '<a target=\"_blank\" href=https://colab.research.google.com/notebooks/data_table.ipynb>data table notebook</a>'\n",
              "            + ' to learn more about interactive tables.';\n",
              "          element.innerHTML = '';\n",
              "          dataTable['output_type'] = 'display_data';\n",
              "          await google.colab.output.renderOutput(dataTable, element);\n",
              "          const docLink = document.createElement('div');\n",
              "          docLink.innerHTML = docLinkHtml;\n",
              "          element.appendChild(docLink);\n",
              "        }\n",
              "      </script>\n",
              "    </div>\n",
              "  </div>\n",
              "  "
            ]
          },
          "metadata": {},
          "execution_count": 56
        }
      ]
    },
    {
      "cell_type": "code",
      "source": [
        "importances['Feature_importances'] = rf_model.feature_importances_\n",
        "importances"
      ],
      "metadata": {
        "execution": {
          "iopub.status.busy": "2023-06-07T00:29:34.823339Z",
          "iopub.execute_input": "2023-06-07T00:29:34.823638Z",
          "iopub.status.idle": "2023-06-07T00:29:34.853832Z",
          "shell.execute_reply.started": "2023-06-07T00:29:34.823609Z",
          "shell.execute_reply": "2023-06-07T00:29:34.852603Z"
        },
        "trusted": true,
        "colab": {
          "base_uri": "https://localhost:8080/",
          "height": 733
        },
        "id": "pzdI47OeWTto",
        "outputId": "09af2faa-ba97-4a3c-c013-cbbfd3cc0bb4"
      },
      "execution_count": null,
      "outputs": [
        {
          "output_type": "execute_result",
          "data": {
            "text/plain": [
              "       Features  Feature_importances\n",
              "0     aluminium             0.249732\n",
              "1       ammonia             0.018524\n",
              "2       arsenic             0.127394\n",
              "3        barium             0.009841\n",
              "4       cadmium             0.219286\n",
              "5    chloramine             0.073162\n",
              "6      chromium             0.055944\n",
              "7        copper             0.005884\n",
              "8      flouride             0.002301\n",
              "9      bacteria             0.022064\n",
              "10      viruses             0.027259\n",
              "11         lead             0.004166\n",
              "12     nitrates             0.013044\n",
              "13     nitrites             0.015032\n",
              "14      mercury             0.002035\n",
              "15  perchlorate             0.091002\n",
              "16       radium             0.011867\n",
              "17     selenium             0.002736\n",
              "18       silver             0.032930\n",
              "19      uranium             0.015797"
            ],
            "text/html": [
              "\n",
              "  <div id=\"df-9e11ddb3-ac78-4b7c-a58b-c5d6008832ae\">\n",
              "    <div class=\"colab-df-container\">\n",
              "      <div>\n",
              "<style scoped>\n",
              "    .dataframe tbody tr th:only-of-type {\n",
              "        vertical-align: middle;\n",
              "    }\n",
              "\n",
              "    .dataframe tbody tr th {\n",
              "        vertical-align: top;\n",
              "    }\n",
              "\n",
              "    .dataframe thead th {\n",
              "        text-align: right;\n",
              "    }\n",
              "</style>\n",
              "<table border=\"1\" class=\"dataframe\">\n",
              "  <thead>\n",
              "    <tr style=\"text-align: right;\">\n",
              "      <th></th>\n",
              "      <th>Features</th>\n",
              "      <th>Feature_importances</th>\n",
              "    </tr>\n",
              "  </thead>\n",
              "  <tbody>\n",
              "    <tr>\n",
              "      <th>0</th>\n",
              "      <td>aluminium</td>\n",
              "      <td>0.249732</td>\n",
              "    </tr>\n",
              "    <tr>\n",
              "      <th>1</th>\n",
              "      <td>ammonia</td>\n",
              "      <td>0.018524</td>\n",
              "    </tr>\n",
              "    <tr>\n",
              "      <th>2</th>\n",
              "      <td>arsenic</td>\n",
              "      <td>0.127394</td>\n",
              "    </tr>\n",
              "    <tr>\n",
              "      <th>3</th>\n",
              "      <td>barium</td>\n",
              "      <td>0.009841</td>\n",
              "    </tr>\n",
              "    <tr>\n",
              "      <th>4</th>\n",
              "      <td>cadmium</td>\n",
              "      <td>0.219286</td>\n",
              "    </tr>\n",
              "    <tr>\n",
              "      <th>5</th>\n",
              "      <td>chloramine</td>\n",
              "      <td>0.073162</td>\n",
              "    </tr>\n",
              "    <tr>\n",
              "      <th>6</th>\n",
              "      <td>chromium</td>\n",
              "      <td>0.055944</td>\n",
              "    </tr>\n",
              "    <tr>\n",
              "      <th>7</th>\n",
              "      <td>copper</td>\n",
              "      <td>0.005884</td>\n",
              "    </tr>\n",
              "    <tr>\n",
              "      <th>8</th>\n",
              "      <td>flouride</td>\n",
              "      <td>0.002301</td>\n",
              "    </tr>\n",
              "    <tr>\n",
              "      <th>9</th>\n",
              "      <td>bacteria</td>\n",
              "      <td>0.022064</td>\n",
              "    </tr>\n",
              "    <tr>\n",
              "      <th>10</th>\n",
              "      <td>viruses</td>\n",
              "      <td>0.027259</td>\n",
              "    </tr>\n",
              "    <tr>\n",
              "      <th>11</th>\n",
              "      <td>lead</td>\n",
              "      <td>0.004166</td>\n",
              "    </tr>\n",
              "    <tr>\n",
              "      <th>12</th>\n",
              "      <td>nitrates</td>\n",
              "      <td>0.013044</td>\n",
              "    </tr>\n",
              "    <tr>\n",
              "      <th>13</th>\n",
              "      <td>nitrites</td>\n",
              "      <td>0.015032</td>\n",
              "    </tr>\n",
              "    <tr>\n",
              "      <th>14</th>\n",
              "      <td>mercury</td>\n",
              "      <td>0.002035</td>\n",
              "    </tr>\n",
              "    <tr>\n",
              "      <th>15</th>\n",
              "      <td>perchlorate</td>\n",
              "      <td>0.091002</td>\n",
              "    </tr>\n",
              "    <tr>\n",
              "      <th>16</th>\n",
              "      <td>radium</td>\n",
              "      <td>0.011867</td>\n",
              "    </tr>\n",
              "    <tr>\n",
              "      <th>17</th>\n",
              "      <td>selenium</td>\n",
              "      <td>0.002736</td>\n",
              "    </tr>\n",
              "    <tr>\n",
              "      <th>18</th>\n",
              "      <td>silver</td>\n",
              "      <td>0.032930</td>\n",
              "    </tr>\n",
              "    <tr>\n",
              "      <th>19</th>\n",
              "      <td>uranium</td>\n",
              "      <td>0.015797</td>\n",
              "    </tr>\n",
              "  </tbody>\n",
              "</table>\n",
              "</div>\n",
              "      <button class=\"colab-df-convert\" onclick=\"convertToInteractive('df-9e11ddb3-ac78-4b7c-a58b-c5d6008832ae')\"\n",
              "              title=\"Convert this dataframe to an interactive table.\"\n",
              "              style=\"display:none;\">\n",
              "        \n",
              "  <svg xmlns=\"http://www.w3.org/2000/svg\" height=\"24px\"viewBox=\"0 0 24 24\"\n",
              "       width=\"24px\">\n",
              "    <path d=\"M0 0h24v24H0V0z\" fill=\"none\"/>\n",
              "    <path d=\"M18.56 5.44l.94 2.06.94-2.06 2.06-.94-2.06-.94-.94-2.06-.94 2.06-2.06.94zm-11 1L8.5 8.5l.94-2.06 2.06-.94-2.06-.94L8.5 2.5l-.94 2.06-2.06.94zm10 10l.94 2.06.94-2.06 2.06-.94-2.06-.94-.94-2.06-.94 2.06-2.06.94z\"/><path d=\"M17.41 7.96l-1.37-1.37c-.4-.4-.92-.59-1.43-.59-.52 0-1.04.2-1.43.59L10.3 9.45l-7.72 7.72c-.78.78-.78 2.05 0 2.83L4 21.41c.39.39.9.59 1.41.59.51 0 1.02-.2 1.41-.59l7.78-7.78 2.81-2.81c.8-.78.8-2.07 0-2.86zM5.41 20L4 18.59l7.72-7.72 1.47 1.35L5.41 20z\"/>\n",
              "  </svg>\n",
              "      </button>\n",
              "      \n",
              "  <style>\n",
              "    .colab-df-container {\n",
              "      display:flex;\n",
              "      flex-wrap:wrap;\n",
              "      gap: 12px;\n",
              "    }\n",
              "\n",
              "    .colab-df-convert {\n",
              "      background-color: #E8F0FE;\n",
              "      border: none;\n",
              "      border-radius: 50%;\n",
              "      cursor: pointer;\n",
              "      display: none;\n",
              "      fill: #1967D2;\n",
              "      height: 32px;\n",
              "      padding: 0 0 0 0;\n",
              "      width: 32px;\n",
              "    }\n",
              "\n",
              "    .colab-df-convert:hover {\n",
              "      background-color: #E2EBFA;\n",
              "      box-shadow: 0px 1px 2px rgba(60, 64, 67, 0.3), 0px 1px 3px 1px rgba(60, 64, 67, 0.15);\n",
              "      fill: #174EA6;\n",
              "    }\n",
              "\n",
              "    [theme=dark] .colab-df-convert {\n",
              "      background-color: #3B4455;\n",
              "      fill: #D2E3FC;\n",
              "    }\n",
              "\n",
              "    [theme=dark] .colab-df-convert:hover {\n",
              "      background-color: #434B5C;\n",
              "      box-shadow: 0px 1px 3px 1px rgba(0, 0, 0, 0.15);\n",
              "      filter: drop-shadow(0px 1px 2px rgba(0, 0, 0, 0.3));\n",
              "      fill: #FFFFFF;\n",
              "    }\n",
              "  </style>\n",
              "\n",
              "      <script>\n",
              "        const buttonEl =\n",
              "          document.querySelector('#df-9e11ddb3-ac78-4b7c-a58b-c5d6008832ae button.colab-df-convert');\n",
              "        buttonEl.style.display =\n",
              "          google.colab.kernel.accessAllowed ? 'block' : 'none';\n",
              "\n",
              "        async function convertToInteractive(key) {\n",
              "          const element = document.querySelector('#df-9e11ddb3-ac78-4b7c-a58b-c5d6008832ae');\n",
              "          const dataTable =\n",
              "            await google.colab.kernel.invokeFunction('convertToInteractive',\n",
              "                                                     [key], {});\n",
              "          if (!dataTable) return;\n",
              "\n",
              "          const docLinkHtml = 'Like what you see? Visit the ' +\n",
              "            '<a target=\"_blank\" href=https://colab.research.google.com/notebooks/data_table.ipynb>data table notebook</a>'\n",
              "            + ' to learn more about interactive tables.';\n",
              "          element.innerHTML = '';\n",
              "          dataTable['output_type'] = 'display_data';\n",
              "          await google.colab.output.renderOutput(dataTable, element);\n",
              "          const docLink = document.createElement('div');\n",
              "          docLink.innerHTML = docLinkHtml;\n",
              "          element.appendChild(docLink);\n",
              "        }\n",
              "      </script>\n",
              "    </div>\n",
              "  </div>\n",
              "  "
            ]
          },
          "metadata": {},
          "execution_count": 57
        }
      ]
    },
    {
      "cell_type": "code",
      "source": [
        "imp = importances.sort_values(by='Feature_importances',ascending=False)\n",
        "imp"
      ],
      "metadata": {
        "execution": {
          "iopub.status.busy": "2023-06-07T00:29:34.855611Z",
          "iopub.execute_input": "2023-06-07T00:29:34.856026Z",
          "iopub.status.idle": "2023-06-07T00:29:34.872403Z",
          "shell.execute_reply.started": "2023-06-07T00:29:34.855963Z",
          "shell.execute_reply": "2023-06-07T00:29:34.870652Z"
        },
        "trusted": true,
        "colab": {
          "base_uri": "https://localhost:8080/",
          "height": 733
        },
        "id": "QFZFovnOWTtp",
        "outputId": "e2858a20-d7db-4c94-84b2-c5a8e157c21d"
      },
      "execution_count": null,
      "outputs": [
        {
          "output_type": "execute_result",
          "data": {
            "text/plain": [
              "       Features  Feature_importances\n",
              "0     aluminium             0.249732\n",
              "4       cadmium             0.219286\n",
              "2       arsenic             0.127394\n",
              "15  perchlorate             0.091002\n",
              "5    chloramine             0.073162\n",
              "6      chromium             0.055944\n",
              "18       silver             0.032930\n",
              "10      viruses             0.027259\n",
              "9      bacteria             0.022064\n",
              "1       ammonia             0.018524\n",
              "19      uranium             0.015797\n",
              "13     nitrites             0.015032\n",
              "12     nitrates             0.013044\n",
              "16       radium             0.011867\n",
              "3        barium             0.009841\n",
              "7        copper             0.005884\n",
              "11         lead             0.004166\n",
              "17     selenium             0.002736\n",
              "8      flouride             0.002301\n",
              "14      mercury             0.002035"
            ],
            "text/html": [
              "\n",
              "  <div id=\"df-516e2867-bb21-4a66-b54e-dce0fd743e67\">\n",
              "    <div class=\"colab-df-container\">\n",
              "      <div>\n",
              "<style scoped>\n",
              "    .dataframe tbody tr th:only-of-type {\n",
              "        vertical-align: middle;\n",
              "    }\n",
              "\n",
              "    .dataframe tbody tr th {\n",
              "        vertical-align: top;\n",
              "    }\n",
              "\n",
              "    .dataframe thead th {\n",
              "        text-align: right;\n",
              "    }\n",
              "</style>\n",
              "<table border=\"1\" class=\"dataframe\">\n",
              "  <thead>\n",
              "    <tr style=\"text-align: right;\">\n",
              "      <th></th>\n",
              "      <th>Features</th>\n",
              "      <th>Feature_importances</th>\n",
              "    </tr>\n",
              "  </thead>\n",
              "  <tbody>\n",
              "    <tr>\n",
              "      <th>0</th>\n",
              "      <td>aluminium</td>\n",
              "      <td>0.249732</td>\n",
              "    </tr>\n",
              "    <tr>\n",
              "      <th>4</th>\n",
              "      <td>cadmium</td>\n",
              "      <td>0.219286</td>\n",
              "    </tr>\n",
              "    <tr>\n",
              "      <th>2</th>\n",
              "      <td>arsenic</td>\n",
              "      <td>0.127394</td>\n",
              "    </tr>\n",
              "    <tr>\n",
              "      <th>15</th>\n",
              "      <td>perchlorate</td>\n",
              "      <td>0.091002</td>\n",
              "    </tr>\n",
              "    <tr>\n",
              "      <th>5</th>\n",
              "      <td>chloramine</td>\n",
              "      <td>0.073162</td>\n",
              "    </tr>\n",
              "    <tr>\n",
              "      <th>6</th>\n",
              "      <td>chromium</td>\n",
              "      <td>0.055944</td>\n",
              "    </tr>\n",
              "    <tr>\n",
              "      <th>18</th>\n",
              "      <td>silver</td>\n",
              "      <td>0.032930</td>\n",
              "    </tr>\n",
              "    <tr>\n",
              "      <th>10</th>\n",
              "      <td>viruses</td>\n",
              "      <td>0.027259</td>\n",
              "    </tr>\n",
              "    <tr>\n",
              "      <th>9</th>\n",
              "      <td>bacteria</td>\n",
              "      <td>0.022064</td>\n",
              "    </tr>\n",
              "    <tr>\n",
              "      <th>1</th>\n",
              "      <td>ammonia</td>\n",
              "      <td>0.018524</td>\n",
              "    </tr>\n",
              "    <tr>\n",
              "      <th>19</th>\n",
              "      <td>uranium</td>\n",
              "      <td>0.015797</td>\n",
              "    </tr>\n",
              "    <tr>\n",
              "      <th>13</th>\n",
              "      <td>nitrites</td>\n",
              "      <td>0.015032</td>\n",
              "    </tr>\n",
              "    <tr>\n",
              "      <th>12</th>\n",
              "      <td>nitrates</td>\n",
              "      <td>0.013044</td>\n",
              "    </tr>\n",
              "    <tr>\n",
              "      <th>16</th>\n",
              "      <td>radium</td>\n",
              "      <td>0.011867</td>\n",
              "    </tr>\n",
              "    <tr>\n",
              "      <th>3</th>\n",
              "      <td>barium</td>\n",
              "      <td>0.009841</td>\n",
              "    </tr>\n",
              "    <tr>\n",
              "      <th>7</th>\n",
              "      <td>copper</td>\n",
              "      <td>0.005884</td>\n",
              "    </tr>\n",
              "    <tr>\n",
              "      <th>11</th>\n",
              "      <td>lead</td>\n",
              "      <td>0.004166</td>\n",
              "    </tr>\n",
              "    <tr>\n",
              "      <th>17</th>\n",
              "      <td>selenium</td>\n",
              "      <td>0.002736</td>\n",
              "    </tr>\n",
              "    <tr>\n",
              "      <th>8</th>\n",
              "      <td>flouride</td>\n",
              "      <td>0.002301</td>\n",
              "    </tr>\n",
              "    <tr>\n",
              "      <th>14</th>\n",
              "      <td>mercury</td>\n",
              "      <td>0.002035</td>\n",
              "    </tr>\n",
              "  </tbody>\n",
              "</table>\n",
              "</div>\n",
              "      <button class=\"colab-df-convert\" onclick=\"convertToInteractive('df-516e2867-bb21-4a66-b54e-dce0fd743e67')\"\n",
              "              title=\"Convert this dataframe to an interactive table.\"\n",
              "              style=\"display:none;\">\n",
              "        \n",
              "  <svg xmlns=\"http://www.w3.org/2000/svg\" height=\"24px\"viewBox=\"0 0 24 24\"\n",
              "       width=\"24px\">\n",
              "    <path d=\"M0 0h24v24H0V0z\" fill=\"none\"/>\n",
              "    <path d=\"M18.56 5.44l.94 2.06.94-2.06 2.06-.94-2.06-.94-.94-2.06-.94 2.06-2.06.94zm-11 1L8.5 8.5l.94-2.06 2.06-.94-2.06-.94L8.5 2.5l-.94 2.06-2.06.94zm10 10l.94 2.06.94-2.06 2.06-.94-2.06-.94-.94-2.06-.94 2.06-2.06.94z\"/><path d=\"M17.41 7.96l-1.37-1.37c-.4-.4-.92-.59-1.43-.59-.52 0-1.04.2-1.43.59L10.3 9.45l-7.72 7.72c-.78.78-.78 2.05 0 2.83L4 21.41c.39.39.9.59 1.41.59.51 0 1.02-.2 1.41-.59l7.78-7.78 2.81-2.81c.8-.78.8-2.07 0-2.86zM5.41 20L4 18.59l7.72-7.72 1.47 1.35L5.41 20z\"/>\n",
              "  </svg>\n",
              "      </button>\n",
              "      \n",
              "  <style>\n",
              "    .colab-df-container {\n",
              "      display:flex;\n",
              "      flex-wrap:wrap;\n",
              "      gap: 12px;\n",
              "    }\n",
              "\n",
              "    .colab-df-convert {\n",
              "      background-color: #E8F0FE;\n",
              "      border: none;\n",
              "      border-radius: 50%;\n",
              "      cursor: pointer;\n",
              "      display: none;\n",
              "      fill: #1967D2;\n",
              "      height: 32px;\n",
              "      padding: 0 0 0 0;\n",
              "      width: 32px;\n",
              "    }\n",
              "\n",
              "    .colab-df-convert:hover {\n",
              "      background-color: #E2EBFA;\n",
              "      box-shadow: 0px 1px 2px rgba(60, 64, 67, 0.3), 0px 1px 3px 1px rgba(60, 64, 67, 0.15);\n",
              "      fill: #174EA6;\n",
              "    }\n",
              "\n",
              "    [theme=dark] .colab-df-convert {\n",
              "      background-color: #3B4455;\n",
              "      fill: #D2E3FC;\n",
              "    }\n",
              "\n",
              "    [theme=dark] .colab-df-convert:hover {\n",
              "      background-color: #434B5C;\n",
              "      box-shadow: 0px 1px 3px 1px rgba(0, 0, 0, 0.15);\n",
              "      filter: drop-shadow(0px 1px 2px rgba(0, 0, 0, 0.3));\n",
              "      fill: #FFFFFF;\n",
              "    }\n",
              "  </style>\n",
              "\n",
              "      <script>\n",
              "        const buttonEl =\n",
              "          document.querySelector('#df-516e2867-bb21-4a66-b54e-dce0fd743e67 button.colab-df-convert');\n",
              "        buttonEl.style.display =\n",
              "          google.colab.kernel.accessAllowed ? 'block' : 'none';\n",
              "\n",
              "        async function convertToInteractive(key) {\n",
              "          const element = document.querySelector('#df-516e2867-bb21-4a66-b54e-dce0fd743e67');\n",
              "          const dataTable =\n",
              "            await google.colab.kernel.invokeFunction('convertToInteractive',\n",
              "                                                     [key], {});\n",
              "          if (!dataTable) return;\n",
              "\n",
              "          const docLinkHtml = 'Like what you see? Visit the ' +\n",
              "            '<a target=\"_blank\" href=https://colab.research.google.com/notebooks/data_table.ipynb>data table notebook</a>'\n",
              "            + ' to learn more about interactive tables.';\n",
              "          element.innerHTML = '';\n",
              "          dataTable['output_type'] = 'display_data';\n",
              "          await google.colab.output.renderOutput(dataTable, element);\n",
              "          const docLink = document.createElement('div');\n",
              "          docLink.innerHTML = docLinkHtml;\n",
              "          element.appendChild(docLink);\n",
              "        }\n",
              "      </script>\n",
              "    </div>\n",
              "  </div>\n",
              "  "
            ]
          },
          "metadata": {},
          "execution_count": 58
        }
      ]
    },
    {
      "cell_type": "code",
      "source": [
        "sns.barplot(y=imp['Features'],x=imp['Feature_importances'])\n",
        "plt.show()"
      ],
      "metadata": {
        "execution": {
          "iopub.status.busy": "2023-06-07T00:29:34.874282Z",
          "iopub.execute_input": "2023-06-07T00:29:34.874733Z",
          "iopub.status.idle": "2023-06-07T00:29:35.241218Z",
          "shell.execute_reply.started": "2023-06-07T00:29:34.874687Z",
          "shell.execute_reply": "2023-06-07T00:29:35.240031Z"
        },
        "trusted": true,
        "colab": {
          "base_uri": "https://localhost:8080/",
          "height": 54
        },
        "id": "K3VwRtW4WTtp",
        "outputId": "ef49bb18-fbb7-446f-ccf4-c0ac5dde85ab"
      },
      "execution_count": null,
      "outputs": [
        {
          "output_type": "display_data",
          "data": {
            "text/plain": [
              "<Figure size 640x480 with 1 Axes>"
            ],
            "image/png": "[encoded data removed]"
          },
          "metadata": {}
        }
      ]
    },
    {
      "cell_type": "code",
      "source": [
        "# Important Features according to above mentioned Barplot:\n",
        "\n",
        "imp['Features'][0:7].values"
      ],
      "metadata": {
        "execution": {
          "iopub.status.busy": "2023-06-07T00:29:35.242873Z",
          "iopub.execute_input": "2023-06-07T00:29:35.243239Z",
          "iopub.status.idle": "2023-06-07T00:29:35.250256Z",
          "shell.execute_reply.started": "2023-06-07T00:29:35.243203Z",
          "shell.execute_reply": "2023-06-07T00:29:35.249185Z"
        },
        "trusted": true,
        "colab": {
          "base_uri": "https://localhost:8080/"
        },
        "id": "kUTqdGjlWTtq",
        "outputId": "c1410f76-7b0a-408a-a4c3-ca8e9bca4b71"
      },
      "execution_count": null,
      "outputs": [
        {
          "output_type": "execute_result",
          "data": {
            "text/plain": [
              "array(['aluminium', 'cadmium', 'arsenic', 'perchlorate', 'chloramine',\n",
              "       'chromium', 'silver'], dtype=object)"
            ]
          },
          "metadata": {},
          "execution_count": 60
        }
      ]
    },
    {
      "cell_type": "markdown",
      "source": [
        "**'aluminium', 'cadmium', 'arsenic', 'perchlorate', 'chloramine','chromium', 'silver'** are some of the important features which affect the water quality."
      ],
      "metadata": {
        "id": "HMvVbz0FWTtq"
      }
    }
  ]
}